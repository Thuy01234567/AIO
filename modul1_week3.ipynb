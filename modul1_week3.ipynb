{
  "cells": [
    {
      "cell_type": "markdown",
      "metadata": {
        "id": "V71TBn042AQg"
      },
      "source": [
        "Bài tập\n",
        "Câu 1"
      ]
    },
    {
      "cell_type": "code",
      "execution_count": null,
      "metadata": {
        "colab": {
          "base_uri": "https://localhost:8080/"
        },
        "id": "zsiGb5Ty2EWA",
        "outputId": "618a0b7c-1e5e-487e-b9b9-123f188b4e77"
      },
      "outputs": [
        {
          "data": {
            "text/plain": [
              "tensor([0.0900, 0.2447, 0.6652])"
            ]
          },
          "execution_count": 1,
          "metadata": {},
          "output_type": "execute_result"
        }
      ],
      "source": [
        "import torch\n",
        "import torch.nn as nn\n",
        "\n",
        "data = torch.Tensor([1, 2, 3])\n",
        "softmax_function = nn.Softmax(dim =0)\n",
        "output= softmax_function(data)\n",
        "assert round(output[0].item(), 2)== 0.09\n",
        "output"
      ]
    },
    {
      "cell_type": "markdown",
      "metadata": {
        "id": "LTW-uS4W5lyS"
      },
      "source": [
        "Câu 2"
      ]
    },
    {
      "cell_type": "code",
      "execution_count": null,
      "metadata": {
        "colab": {
          "base_uri": "https://localhost:8080/"
        },
        "id": "4rvRg01B3Pv6",
        "outputId": "80ecf3a1-c7ad-4172-e817-3acb57434084"
      },
      "outputs": [
        {
          "data": {
            "text/plain": [
              "tensor([0.7054, 0.0351, 0.2595])"
            ]
          },
          "execution_count": 2,
          "metadata": {},
          "output_type": "execute_result"
        }
      ],
      "source": [
        "import torch\n",
        "import torch.nn as nn\n",
        "\n",
        "class MySoftmax(nn.Module):\n",
        "  def __init__(self):\n",
        "    super().__init__()\n",
        "\n",
        "  def forward(self, x):\n",
        "    exp_x = torch.exp(x)\n",
        "    return exp_x/torch.sum(exp_x, dim=0)\n",
        "\n",
        "### Your Code Here\n",
        "\n",
        "11 ### End Code Here\n",
        "\n",
        "data = torch.Tensor([5, 2, 4])\n",
        "my_softmax = MySoftmax()\n",
        "output = my_softmax(data)\n",
        "assert round(output [ -1]. item(), 2)== 0.26\n",
        "output"
      ]
    },
    {
      "cell_type": "markdown",
      "metadata": {
        "id": "rgXgEUXw5oaQ"
      },
      "source": [
        "Câu 3"
      ]
    },
    {
      "cell_type": "code",
      "execution_count": null,
      "metadata": {
        "colab": {
          "base_uri": "https://localhost:8080/"
        },
        "id": "MTtCCwlY5EPe",
        "outputId": "09339236-03da-4879-9d56-7be48c9ab7e0"
      },
      "outputs": [
        {
          "data": {
            "text/plain": [
              "tensor([0., 0., nan])"
            ]
          },
          "execution_count": 3,
          "metadata": {},
          "output_type": "execute_result"
        }
      ],
      "source": [
        "import torch\n",
        "import torch.nn as nn\n",
        "\n",
        "class MySoftmax(nn.Module):\n",
        "  def __init__(self):\n",
        "    super().__init__()\n",
        "\n",
        "  def forward(self, x):\n",
        "    ### Your Code Here\n",
        "    exp_x = torch.exp(x)\n",
        "    return exp_x/torch.sum(exp_x, dim=0)\n",
        "    ### End Code Here\n",
        "\n",
        "data = torch.Tensor([1, 2, 300000000])\n",
        "my_softmax = MySoftmax()\n",
        "output = my_softmax(data)\n",
        "assert round(output [0]. item(), 2)== 0.0\n",
        "output"
      ]
    },
    {
      "cell_type": "markdown",
      "metadata": {
        "id": "GljX2NLZ6mT1"
      },
      "source": [
        "Câu 4"
      ]
    },
    {
      "cell_type": "code",
      "execution_count": null,
      "metadata": {
        "colab": {
          "base_uri": "https://localhost:8080/"
        },
        "id": "R90r8Cch6kWL",
        "outputId": "fb9e6203-e27a-435a-cf78-80562cdca25d"
      },
      "outputs": [
        {
          "data": {
            "text/plain": [
              "tensor([0.0900, 0.2447, 0.6652])"
            ]
          },
          "execution_count": 41,
          "metadata": {},
          "output_type": "execute_result"
        }
      ],
      "source": [
        "import torch\n",
        "import torch.nn as nn\n",
        "class SoftmaxStable(nn.Module):\n",
        "  def __init__(self):\n",
        "    super().__init__()\n",
        "\n",
        "  def forward(self, x):\n",
        "    x_max = torch.max(x, dim =0, keepdims = True)\n",
        "    x_exp = torch.exp(x - x_max.values)\n",
        "    partition = x_exp.sum(0, keepdims = True)\n",
        "    return x_exp/partition\n",
        "\n",
        "data = torch.Tensor([1, 2, 3])\n",
        "softmax_stable = SoftmaxStable()\n",
        "output = softmax_stable(data)\n",
        "assert round(output [-1]. item(), 2)== 0.67\n",
        "output"
      ]
    },
    {
      "cell_type": "markdown",
      "metadata": {
        "id": "a0H8HBeK854d"
      },
      "source": [
        "Câu 5"
      ]
    },
    {
      "cell_type": "code",
      "execution_count": null,
      "metadata": {
        "colab": {
          "base_uri": "https://localhost:8080/"
        },
        "id": "lp9ecUTn88eb",
        "outputId": "3a700194-2ddf-4b8d-f749-afbee6558f18"
      },
      "outputs": [
        {
          "name": "stdout",
          "output_type": "stream",
          "text": [
            "Student - Name:studentZ2023, YoB:2011, Grade:6\n"
          ]
        }
      ],
      "source": [
        "from abc import ABC,abstractmethod\n",
        "\n",
        "class Person(ABC):\n",
        "  def __init__(self, name:str, yob:int):\n",
        "    self._name = name\n",
        "    self._yob = yob\n",
        "\n",
        "  def get_yob(self):\n",
        "    return self._yob\n",
        "\n",
        "  def describe(self):\n",
        "    pass\n",
        "\n",
        "\n",
        "class Student(Person):\n",
        "  def __init__(self, name:str, yob:int, grade:str):\n",
        "    super().__init__(name, yob)\n",
        "    self._grade = grade\n",
        "\n",
        "  def describe(self):\n",
        "    print(f\"Student - Name:{self._name}, YoB:{self._yob}, Grade:{self._grade}\")\n",
        "\n",
        "student1 = Student(name =\"studentZ2023\", yob =2011, grade =\"6\")\n",
        "assert student1._yob == 2011\n",
        "student1.describe()"
      ]
    },
    {
      "cell_type": "markdown",
      "metadata": {
        "id": "0Oc50J_kCJyH"
      },
      "source": [
        "Câu 6"
      ]
    },
    {
      "cell_type": "code",
      "execution_count": null,
      "metadata": {
        "colab": {
          "base_uri": "https://localhost:8080/"
        },
        "id": "dUkUbexECLXL",
        "outputId": "c7fbca32-ffa8-415a-ec36-e14d1a28cf0c"
      },
      "outputs": [
        {
          "name": "stdout",
          "output_type": "stream",
          "text": [
            "Teacher - Name:teacherZ2023, YoB:1991, Subject:History\n"
          ]
        }
      ],
      "source": [
        "from abc import ABC, abstractmethod\n",
        "class Person(ABC):\n",
        "  def __init__(self, name:str, yob:int):\n",
        "    self._name = name\n",
        "    self._yob = yob\n",
        "\n",
        "  def get_yob(self):\n",
        "    return self._yob\n",
        "\n",
        "  def describe(self):\n",
        "    pass\n",
        "\n",
        "\n",
        "class Teacher(Person):\n",
        "  def __init__(self, name:str, yob:int, subject:str):\n",
        "    super().__init__(name, yob)\n",
        "    self._subject = subject\n",
        "\n",
        "  def describe(self):\n",
        "    print(f\"Teacher - Name:{self._name}, YoB:{self._yob}, Subject:{self._subject}\")\n",
        "\n",
        "teacher1 = Teacher(name =\"teacherZ2023\", yob =1991, subject =\"History\")\n",
        "assert teacher1._yob == 1991\n",
        "teacher1.describe()"
      ]
    },
    {
      "cell_type": "markdown",
      "metadata": {
        "id": "MqAAn8FzEkb1"
      },
      "source": [
        "Câu 7"
      ]
    },
    {
      "cell_type": "code",
      "execution_count": null,
      "metadata": {
        "colab": {
          "base_uri": "https://localhost:8080/"
        },
        "id": "XFZoAqggEl4I",
        "outputId": "b26d53c7-b4bc-4c92-8f41-ccbdd5dba726"
      },
      "outputs": [
        {
          "name": "stdout",
          "output_type": "stream",
          "text": [
            "Doctor - Name:doctorZ2023, YoB:1981, Specialist:Endocrinologists\n"
          ]
        }
      ],
      "source": [
        "from abc import ABC, abstractmethod\n",
        "class Person(ABC):\n",
        "  def __init__(self, name:str, yob:int):\n",
        "    self._name = name\n",
        "    self._yob = yob\n",
        "\n",
        "  def get_yob(self):\n",
        "    return self._yob\n",
        "\n",
        "\n",
        "  def describe(self):\n",
        "    pass\n",
        "\n",
        "\n",
        "class Doctor(Person):\n",
        "  def __init__(self, name:str, yob:int, specialist:str):\n",
        "    super().__init__(name, yob)\n",
        "    self._specialist = specialist\n",
        "\n",
        "  def describe(self):\n",
        "    print(f\"Doctor - Name:{self._name}, YoB:{self._yob}, Specialist:{self._specialist}\")\n",
        "\n",
        "\n",
        "doctor1 = Doctor(name =\"doctorZ2023\", yob =1981, specialist =\"Endocrinologists\")\n",
        "assert doctor1._yob == 1981\n",
        "doctor1.describe()"
      ]
    },
    {
      "cell_type": "markdown",
      "metadata": {
        "id": "7Z0V2Q9RF1xt"
      },
      "source": [
        "Câu 8"
      ]
    },
    {
      "cell_type": "code",
      "execution_count": null,
      "metadata": {
        "colab": {
          "base_uri": "https://localhost:8080/"
        },
        "id": "n12iaB4HF3KJ",
        "outputId": "596ba127-019d-4190-dc75-32411ea80ef2"
      },
      "outputs": [
        {
          "data": {
            "text/plain": [
              "2"
            ]
          },
          "execution_count": 30,
          "metadata": {},
          "output_type": "execute_result"
        }
      ],
      "source": [
        "class Ward:\n",
        "  def __init__(self, name:str):\n",
        "    self.__name = name\n",
        "    self.__listPeople = list()\n",
        "\n",
        "  def add_person(self, person:Person):\n",
        "    self.__listPeople.append(person)\n",
        "\n",
        "  def describe(self):\n",
        "    print(f\"Ward Name:{ self.__name }\")\n",
        "    for p in self.__listPeople:\n",
        "      p.describe()\n",
        "\n",
        "  def count_doctor(self):\n",
        "    ### Your Code Here\n",
        "    count = 0\n",
        "    for person in self.__listPeople:\n",
        "      if isinstance(person, Doctor):\n",
        "        count += 1\n",
        "    return count\n",
        "\n",
        "ward1 = Ward(name =\"Ward1\")\n",
        "\n",
        "student1 = Student(name =\"studentA\", yob =2010, grade =\"7\")\n",
        "teacher1 = Teacher(name =\"teacherA\", yob =1969, subject =\"Math\")\n",
        "teacher2 = Teacher(name =\"teacherB\", yob =1995, subject =\"History\")\n",
        "doctor1 = Doctor(name =\"doctorA\", yob =1945, specialist =\"Endocrinologists\")\n",
        "#print(ward1.count_doctor())\n",
        "doctor2 = Doctor(name =\"doctorB\", yob =1975, specialist =\"Cardiologists\")\n",
        "ward1 = Ward(name =\"Ward1\")\n",
        "ward1.add_person(student1)\n",
        "ward1.add_person(teacher1)\n",
        "ward1.add_person(teacher2)\n",
        "ward1.add_person(doctor1)\n",
        "ward1.add_person(doctor2)\n",
        "ward1.count_doctor()"
      ]
    },
    {
      "cell_type": "markdown",
      "metadata": {
        "id": "gG5mDsn8HOQw"
      },
      "source": [
        "Câu 9"
      ]
    },
    {
      "cell_type": "code",
      "execution_count": null,
      "metadata": {
        "colab": {
          "base_uri": "https://localhost:8080/"
        },
        "id": "BuVCok-uHQen",
        "outputId": "20942c8f-140d-4dc6-b9ea-02a0de31797d"
      },
      "outputs": [
        {
          "name": "stdout",
          "output_type": "stream",
          "text": [
            "False\n"
          ]
        }
      ],
      "source": [
        "class MyStack:\n",
        "  def __init__(self, capacity):\n",
        "    self.__capacity = capacity\n",
        "    self.__stack = []\n",
        "\n",
        "  def is_full(self):\n",
        "    return len(self.__stack) == self.__capacity\n",
        "\n",
        "  def push(self, value):\n",
        "    if not self.is_full():\n",
        "      self.__stack.append(value)\n",
        "\n",
        "\n",
        "stack1 = MyStack(capacity =5)\n",
        "stack1.push(1)\n",
        "assert stack1.is_full()== False\n",
        "stack1.push(2)\n",
        "print(stack1.is_full())"
      ]
    },
    {
      "cell_type": "markdown",
      "metadata": {
        "id": "45pUzSFaIjmW"
      },
      "source": [
        "Câu 10"
      ]
    },
    {
      "cell_type": "code",
      "execution_count": null,
      "metadata": {
        "colab": {
          "base_uri": "https://localhost:8080/"
        },
        "id": "5racqpw4IlCA",
        "outputId": "1175628f-512b-431a-8bc8-01f382dd4368"
      },
      "outputs": [
        {
          "name": "stdout",
          "output_type": "stream",
          "text": [
            "2\n"
          ]
        }
      ],
      "source": [
        "class MyStack:\n",
        "  def __init__(self, capacity):\n",
        "    self.__capacity = capacity\n",
        "    self.__stack = []\n",
        "\n",
        "  def is_full(self):\n",
        "    return len(self.__stack)== self.__capacity\n",
        "\n",
        "  def push(self, value):\n",
        "    if not self.is_full():\n",
        "      self.__stack.append(value)\n",
        "\n",
        "\n",
        "  def top(self):\n",
        "    if self.__stack:\n",
        "      return self.__stack[-1]\n",
        "    else:\n",
        "      return None\n",
        "\n",
        "stack1 = MyStack(capacity =5)\n",
        "stack1.push(1)\n",
        "assert stack1.is_full()== False\n",
        "stack1.push(2)\n",
        "print(stack1.top())"
      ]
    },
    {
      "cell_type": "markdown",
      "metadata": {
        "id": "yuwv4P-xJf15"
      },
      "source": [
        "Câu 11"
      ]
    },
    {
      "cell_type": "code",
      "execution_count": null,
      "metadata": {
        "colab": {
          "base_uri": "https://localhost:8080/"
        },
        "id": "vy5Sm8rjZFfc",
        "outputId": "1ad7d926-eb67-43df-e969-96397f9ef1d2"
      },
      "outputs": [
        {
          "name": "stdout",
          "output_type": "stream",
          "text": [
            "False\n"
          ]
        }
      ],
      "source": [
        "class MyQueue:\n",
        "  def __init__ (self, capacity):\n",
        "    self.__capacity = capacity\n",
        "    self.__queue = []\n",
        "\n",
        "  def is_full (self):\n",
        "     return len(self.__queue)==self.__capacity\n",
        "\n",
        "  def enqueue(self, value):\n",
        "    if not self.is_full():\n",
        "      self.__queue.append(value)\n",
        "\n",
        "  def dequeue(self):\n",
        "    if not self.is_empty():\n",
        "      return self.__queue.pop(0)\n",
        "    else:\n",
        "      return None\n",
        "\n",
        "queue1 = MyQueue(capacity =5)\n",
        "queue1.enqueue(1)\n",
        "assert queue1.is_full()==  False\n",
        "queue1.enqueue(2)\n",
        "print(queue1.is_full())"
      ]
    },
    {
      "cell_type": "markdown",
      "metadata": {
        "id": "JlP5Mzo7KWBV"
      },
      "source": [
        "CÂU 12"
      ]
    },
    {
      "cell_type": "code",
      "execution_count": null,
      "metadata": {
        "colab": {
          "base_uri": "https://localhost:8080/"
        },
        "id": "Rqf7Q-AZKY3U",
        "outputId": "db0b5a73-ec74-4f3d-94db-7fcde95f32e1"
      },
      "outputs": [
        {
          "name": "stdout",
          "output_type": "stream",
          "text": [
            "1\n"
          ]
        }
      ],
      "source": [
        "class MyQueue:\n",
        "  def __init__(self , capacity ):\n",
        "    self.__capacity = capacity\n",
        "    self.__queue = []\n",
        "\n",
        "  def isEmpty(self ):\n",
        "    return len( self.__queue )== 0\n",
        "\n",
        "  def is_full(self ):\n",
        "    return len( self.__queue )== self.__capacity\n",
        "\n",
        "  def dequeue(self ):\n",
        "    if not self.isEmpty():\n",
        "      return self.__queue.pop(0)\n",
        "    else:\n",
        "      return None\n",
        "\n",
        "  def enqueue(self , value ):\n",
        "    if not self.is_full():\n",
        "      self.__queue.append(value)\n",
        "\n",
        "  def front(self ):\n",
        "    if not self.isEmpty():\n",
        "      return self.__queue[0]\n",
        "    else:\n",
        "      return None\n",
        "\n",
        "queue1 = MyQueue(capacity =5)\n",
        "queue1.enqueue (1)\n",
        "assert queue1.is_full ()== False\n",
        "queue1.enqueue (2)\n",
        "print(queue1.front ())"
      ]
    }
  ],
  "metadata": {
    "colab": {
      "provenance": []
    },
    "kernelspec": {
      "display_name": "Python 3",
      "name": "python3"
    },
    "language_info": {
      "name": "python"
    }
  },
  "nbformat": 4,
  "nbformat_minor": 0
}
