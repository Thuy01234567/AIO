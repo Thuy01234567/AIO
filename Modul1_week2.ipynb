{
  "cells": [
    {
      "cell_type": "code",
      "execution_count": null,
      "metadata": {
        "colab": {
          "base_uri": "https://localhost:8080/"
        },
        "id": "TbVYl0es1pfx",
        "outputId": "4a23a6b9-0c10-47a4-8bff-6fc5a8239d31"
      },
      "outputs": [
        {
          "name": "stdout",
          "output_type": "stream",
          "text": [
            "{'s': 2, 'm': 1, 'i': 1, 'l': 1, 'e': 1}\n"
          ]
        }
      ],
      "source": [
        "#Begin\n",
        "def character_count(string):\n",
        "    char_count = {}\n",
        "    for char in string:\n",
        "        if char in char_count:\n",
        "            char_count[char] += 1\n",
        "        else:\n",
        "            char_count[char] = 1\n",
        "    return char_count\n",
        "# End\n",
        "assert(character_count(\"Baby\") == {'B': 1 , 'a': 1 , 'b': 1 , 'y': 1})\n",
        "print(character_count('smiles'))\n"
      ]
    },
    {
      "cell_type": "code",
      "execution_count": null,
      "metadata": {
        "colab": {
          "base_uri": "https://localhost:8080/"
        },
        "id": "0EC9LBvf2VxM",
        "outputId": "004df45f-fefe-45d7-9a9e-00e81ad87cbd"
      },
      "outputs": [
        {
          "name": "stdout",
          "output_type": "stream",
          "text": [
            "6\n"
          ]
        }
      ],
      "source": [
        "file_path = '/content/P1_data.txt'\n",
        "def count_word(file_path):\n",
        "  counter = {}\n",
        "  with open(file_path, 'r') as file:\n",
        "    text = file.read()\n",
        "    words = text.split()\n",
        "    counter = character_count(words)\n",
        "  return counter\n",
        "\n",
        "\n",
        "result = count_word(file_path)\n",
        "assert result['who'] == 3\n",
        "print (result['man'])"
      ]
    },
    {
      "cell_type": "code",
      "execution_count": null,
      "metadata": {
        "colab": {
          "base_uri": "https://localhost:8080/"
        },
        "id": "9OoeCL4l7IQt",
        "outputId": "cd1401a8-2757-48ae-d8cb-b984c4b5b0f8"
      },
      "outputs": [
        {
          "name": "stdout",
          "output_type": "stream",
          "text": [
            "[5, 5, 5, 5, 10, 12, 33, 33]\n"
          ]
        }
      ],
      "source": [
        "def max_kernel(num_list,k):\n",
        "  result = []\n",
        "  # Your Code Here\n",
        "  for i in range(len( num_list) - k + 1) :\n",
        "    max_num = max(num_list[i:i + k ])\n",
        "    result.append(max_num)\n",
        "  return result\n",
        "  # End Code Here\n",
        "assert max_kernel ([3 , 4 , 5 , 1 , -44] , 3) == [5 , 5 , 5]\n",
        "num_list = [3 , 4 , 5 , 1 , -44 , 5 ,10 , 12 ,33 , 1]\n",
        "k = 3\n",
        "print(max_kernel(num_list,k))"
      ]
    },
    {
      "cell_type": "code",
      "execution_count": null,
      "metadata": {
        "colab": {
          "base_uri": "https://localhost:8080/"
        },
        "id": "TjVE8m7A-Or6",
        "outputId": "88ce3a29-ad24-4fb6-cd5b-e09bcf80516f"
      },
      "outputs": [
        {
          "name": "stdout",
          "output_type": "stream",
          "text": [
            "3\n"
          ]
        }
      ],
      "source": [
        "def levenshtein_distance(token1,token2):\n",
        "  # Your Code Here\n",
        "  distance = 0\n",
        "  dp = [[0 for _ in range(len(token2) + 1)] for _ in range(len(token1) + 1)]\n",
        "  for i in range(len(token1) + 1):\n",
        "    dp[i][0] = i\n",
        "  for j in range(len(token2) + 1):\n",
        "    dp[0][j] = j\n",
        "  for i in range(1, len(token1) + 1):\n",
        "    for j in range(1, len(token2) + 1):\n",
        "      cost = 0 if token1[i - 1] == token2[j - 1] else 1\n",
        "      dp[i][j] = min(dp[i - 1][j] + 1, dp[i][j - 1] + 1, dp[i - 1][j - 1] + cost)\n",
        "  distance = dp[-1][-1]\n",
        "  return distance\n",
        "\n",
        "assert levenshtein_distance (\"hi\", \"hello\") == 4.0\n",
        "print(levenshtein_distance(\"hola\", \"hello\"))"
      ]
    },
    {
      "cell_type": "code",
      "execution_count": null,
      "metadata": {
        "colab": {
          "base_uri": "https://localhost:8080/"
        },
        "id": "cP8i3MDIHSuY",
        "outputId": "c90356c8-56a5-46cd-e976-1baaacb9dce5"
      },
      "outputs": [
        {
          "name": "stdout",
          "output_type": "stream",
          "text": [
            "True\n"
          ]
        }
      ],
      "source": [
        "def check_the_number(N):\n",
        "  # Your code here\n",
        "  list_of_numbers = []\n",
        "  result = \"\"\n",
        "  for i in range(1,5):\n",
        "    list_of_numbers.append(i)\n",
        "    #Su dung append them i vao trong list_of_number\n",
        "  if N in list_of_numbers:\n",
        "    results = \"True\"\n",
        "  if N not in list_of_numbers:\n",
        "    results = \"False\"\n",
        "  return results\n",
        "\n",
        "N = 7\n",
        "assert check_the_number(N)== \"False\"\n",
        "N = 2\n",
        "results = check_the_number(N)\n",
        "print(results)"
      ]
    },
    {
      "cell_type": "code",
      "execution_count": null,
      "metadata": {
        "colab": {
          "base_uri": "https://localhost:8080/"
        },
        "id": "7s84T7dALJN4",
        "outputId": "f6ae1fbf-a2f3-45a0-d65c-4538125791ec"
      },
      "outputs": [
        {
          "name": "stdout",
          "output_type": "stream",
          "text": [
            "[2, 2, 2, 1, 1]\n"
          ]
        }
      ],
      "source": [
        "def my_function (data, max, min):\n",
        "  result = []\n",
        "  for i in data:\n",
        "    # Your code here\n",
        "    # Neu i < min thi them min vao result\n",
        "    if i < min:\n",
        "      result.append(min)\n",
        "    elif i > max:\n",
        "      result.append(max)\n",
        "    else:\n",
        "      result.append(i)\n",
        "  return result\n",
        "\n",
        "my_list = [5 , 2 , 5 , 0 , 1]\n",
        "max = 1\n",
        "min = 0\n",
        "assert my_function (max = max , min = min , data = my_list ) == [1 , 1 , 1 , 0 , 1]\n",
        "my_list = [10 , 2 , 5 , 0 , 1]\n",
        "max = 2\n",
        "min = 1\n",
        "print (my_function (max = max , min = min , data = my_list ) )"
      ]
    },
    {
      "cell_type": "code",
      "execution_count": null,
      "metadata": {
        "colab": {
          "base_uri": "https://localhost:8080/"
        },
        "id": "gGXXmPCVOK7w",
        "outputId": "20a77f00-4073-4706-e187-55d795b00181"
      },
      "outputs": [
        {
          "name": "stdout",
          "output_type": "stream",
          "text": [
            "[1, 2, 3, 4, 0, 0]\n"
          ]
        }
      ],
      "source": [
        "def join_function (x , y ) :\n",
        "# Your code here\n",
        "# Su dung extend de noi y vao x\n",
        "  x.extend(y)\n",
        "  return x\n",
        "\n",
        "list_num1 = ['a', 2 , 5]\n",
        "list_num2 = [1 , 1]\n",
        "list_num3 = [0 , 0]\n",
        "\n",
        "assert join_function(list_num1, join_function(list_num2, list_num3)) == ['a', 2 , 5 , 1 , 1 ,0 , 0]\n",
        "\n",
        "list_num1 = [1 , 2]\n",
        "list_num2 = [3 , 4]\n",
        "list_num3 = [0 , 0]\n",
        "\n",
        "print(join_function(list_num1, join_function(list_num2, list_num3)))"
      ]
    },
    {
      "cell_type": "code",
      "execution_count": null,
      "metadata": {
        "colab": {
          "base_uri": "https://localhost:8080/"
        },
        "id": "D6pnlZAeQt9r",
        "outputId": "e86b8879-5e16-4a40-96c1-8b686351f75b"
      },
      "outputs": [
        {
          "name": "stdout",
          "output_type": "stream",
          "text": [
            "-1\n"
          ]
        }
      ],
      "source": [
        "def min_function(my_list):\n",
        "  # Your code here\n",
        "  n =len(my_list)\n",
        "  min = my_list[0]\n",
        "  for i in range(0, n):\n",
        "    if my_list[i] < min:\n",
        "      min = my_list[i]\n",
        "  return min\n",
        "\n",
        "my_list = [1, 22, 93, -100]\n",
        "assert min_function(my_list) == -100\n",
        "my_list = [1, 2, 3, -1]\n",
        "print(min_function(my_list))"
      ]
    },
    {
      "cell_type": "code",
      "execution_count": null,
      "metadata": {
        "colab": {
          "base_uri": "https://localhost:8080/"
        },
        "id": "VqVzKwRKTKbL",
        "outputId": "4f3888cd-9879-4874-8f97-e2a04da9a987"
      },
      "outputs": [
        {
          "name": "stdout",
          "output_type": "stream",
          "text": [
            "9\n"
          ]
        }
      ],
      "source": [
        "def max_function(my_list):\n",
        "  # Your code here\n",
        "  n =len(my_list)\n",
        "  max = my_list[0]\n",
        "  for i in range(0, n):\n",
        "    if my_list[i] > max:\n",
        "      max = my_list[i]\n",
        "  return max\n",
        "my_list = [1001 , 9, 100 , 0]\n",
        "assert max_function (my_list) == 1001\n",
        "my_list = [1, 9, 9, 0]\n",
        "print(max_function(my_list))"
      ]
    },
    {
      "cell_type": "code",
      "execution_count": null,
      "metadata": {
        "colab": {
          "base_uri": "https://localhost:8080/"
        },
        "id": "eEuF2Mr4T3Gw",
        "outputId": "855a0ad7-fe2b-445a-a08e-4c231d6d64d7"
      },
      "outputs": [
        {
          "name": "stdout",
          "output_type": "stream",
          "text": [
            "True\n"
          ]
        }
      ],
      "source": [
        "def check_function(integers, number = 1):\n",
        "  # Your code here\n",
        "  check = False\n",
        "  for i in integers:\n",
        "    if i == number:\n",
        "      check = True\n",
        "  return check\n",
        "\n",
        "# Your code here : Thuc hien duyet tung phan tu trong integers , so sanh tung phan tu voi number ,\n",
        "# neu bang nhau tra ve True , khac nhau tra ve false\n",
        "#vi du: integers = [1, 2, 3], number = 2, ban se tao ra list [False , True , False ]\"\"\" )\n",
        "my_list = [1, 3, 9, 4]\n",
        "assert my_function (my_list , -1) == False\n",
        "my_list = [1, 2, 3, 4]\n",
        "print(my_function(my_list, 2))"
      ]
    },
    {
      "cell_type": "code",
      "execution_count": null,
      "metadata": {
        "colab": {
          "base_uri": "https://localhost:8080/"
        },
        "id": "bPfx_DILYYIc",
        "outputId": "4afa5922-a203-4ff7-c38d-c30ca8808096"
      },
      "outputs": [
        {
          "name": "stdout",
          "output_type": "stream",
          "text": [
            "1\n"
          ]
        }
      ],
      "source": [
        "def my_function(list_nums = [0, 1, 2]):\n",
        "  var = 0\n",
        "  for i in list_nums:\n",
        "    var += i\n",
        "  return int(var/len(list_nums)) # Your code here : Tra ve gia tri trung binh cua list bang cach chia var cho so luong phan tu trong list_mums\n",
        "\n",
        "assert my_function ([4 , 6, 8]) == 6\n",
        "print(my_function())"
      ]
    },
    {
      "cell_type": "code",
      "execution_count": null,
      "metadata": {
        "colab": {
          "base_uri": "https://localhost:8080/"
        },
        "id": "rddOtv8NZfiZ",
        "outputId": "1b63d154-1f51-409a-e406-58c8fd7d486f"
      },
      "outputs": [
        {
          "name": "stdout",
          "output_type": "stream",
          "text": [
            "[3, 6]\n"
          ]
        }
      ],
      "source": [
        "def sub_function (data):\n",
        "  var = []\n",
        "  # Your code here\n",
        "  for i in data:\n",
        "    # Neu i chia het cho 3 thi them i vao list var\n",
        "    if i % 3 == 0:\n",
        "      var.append(i)\n",
        "  return var\n",
        "\n",
        "assert sub_function([3 , 9, 4, 5]) == [3, 9]\n",
        "print(sub_function([1 , 2, 3, 5, 6]))"
      ]
    },
    {
      "cell_type": "code",
      "execution_count": null,
      "metadata": {
        "colab": {
          "base_uri": "https://localhost:8080/"
        },
        "id": "MtGBs15baYMe",
        "outputId": "97af4f78-e47f-488c-f899-0692e5f0d22c"
      },
      "outputs": [
        {
          "name": "stdout",
          "output_type": "stream",
          "text": [
            "24\n"
          ]
        }
      ],
      "source": [
        "def fac_function(y):\n",
        "  var = 1\n",
        "  while (y > 1):\n",
        "    # Your code here\n",
        "    var *= y\n",
        "    y -= 1\n",
        "  return var\n",
        "assert fac_function(8) == 40320\n",
        "print(fac_function(4))"
      ]
    },
    {
      "cell_type": "code",
      "execution_count": null,
      "metadata": {
        "colab": {
          "base_uri": "https://localhost:8080/"
        },
        "id": "-rnriex6cRcs",
        "outputId": "cf4dac39-d7fb-42c1-b8ee-7c8a05783fae"
      },
      "outputs": [
        {
          "name": "stdout",
          "output_type": "stream",
          "text": [
            "tocirpa\n"
          ]
        }
      ],
      "source": [
        "def rev_function(x):\n",
        "  # your code here\n",
        "  string = ''\n",
        "  for i in range(len(x)-1, -1, -1):\n",
        "    string += x[i]\n",
        "  return string\n",
        "\n",
        "x = 'I can do it'\n",
        "assert rev_function (x)=='ti od nac I'\n",
        "x = 'apricot'\n",
        "print(rev_function(x))"
      ]
    },
    {
      "cell_type": "code",
      "execution_count": null,
      "metadata": {
        "colab": {
          "base_uri": "https://localhost:8080/"
        },
        "id": "WsEgvCS_fsYf",
        "outputId": "f54390d0-1910-47e4-c279-062c3042cae9"
      },
      "outputs": [
        {
          "name": "stdout",
          "output_type": "stream",
          "text": [
            "['T', 'T', 'T', 'N']\n"
          ]
        }
      ],
      "source": [
        "def function_helper (x):\n",
        "  # Your code here\n",
        "  # Neu x >0 tra ve ’T’, nguoc lai tra ve ’N’\n",
        "  if x > 0:\n",
        "    return 'T'\n",
        "  else:\n",
        "    return 'N'\n",
        "\n",
        "def my_function( data ):\n",
        "  res = [function_helper (x) for x in data]\n",
        "  return res\n",
        "\n",
        "data = [10 , 0, -10, -1]\n",
        "assert my_function ( data ) == ['T', 'N', 'N', 'N']\n",
        "\n",
        "data = [2, 3, 5, -1]\n",
        "print(my_function ( data ))"
      ]
    },
    {
      "cell_type": "code",
      "execution_count": null,
      "metadata": {
        "colab": {
          "base_uri": "https://localhost:8080/"
        },
        "id": "ISRApATZgjge",
        "outputId": "956621f5-b0fe-43ae-9a9d-bca2f699906d"
      },
      "outputs": [
        {
          "name": "stdout",
          "output_type": "stream",
          "text": [
            "[9, 8, 1]\n"
          ]
        }
      ],
      "source": [
        "def function_helper (x, data ):\n",
        "  for i in data:\n",
        "    # Your code here\n",
        "    # Neu x == i thi return 0\n",
        "    if x==i:\n",
        "      return 0\n",
        "  return 1\n",
        "\n",
        "def my_function(data ):\n",
        "  res = []\n",
        "  for i in data:\n",
        "    if function_helper(i, res):\n",
        "      res.append(i)\n",
        "  return res\n",
        "\n",
        "lst = [10 , 10, 9, 7, 7]\n",
        "assert my_function(lst) ==[10 , 9, 7]\n",
        "\n",
        "lst = [9, 9, 8, 1, 1]\n",
        "print(my_function(lst))"
      ]
    }
  ],
  "metadata": {
    "colab": {
      "provenance": []
    },
    "kernelspec": {
      "display_name": "Python 3",
      "name": "python3"
    },
    "language_info": {
      "name": "python"
    }
  },
  "nbformat": 4,
  "nbformat_minor": 0
}
