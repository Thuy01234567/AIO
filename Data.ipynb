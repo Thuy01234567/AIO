{
  "nbformat": 4,
  "nbformat_minor": 0,
  "metadata": {
    "colab": {
      "provenance": [],
      "toc_visible": true,
      "authorship_tag": "ABX9TyNylGl0aUAIsDAKulFGzt5u",
      "include_colab_link": true
    },
    "kernelspec": {
      "name": "python3",
      "display_name": "Python 3"
    },
    "language_info": {
      "name": "python"
    }
  },
  "cells": [
    {
      "cell_type": "markdown",
      "metadata": {
        "id": "view-in-github",
        "colab_type": "text"
      },
      "source": [
        "<a href=\"https://colab.research.google.com/github/Thuy01234567/AIO/blob/main/Data.ipynb\" target=\"_parent\"><img src=\"https://colab.research.google.com/assets/colab-badge.svg\" alt=\"Open In Colab\"/></a>"
      ]
    },
    {
      "cell_type": "code",
      "execution_count": null,
      "metadata": {
        "id": "lWyB8gkeJrSg"
      },
      "outputs": [],
      "source": []
    },
    {
      "cell_type": "markdown",
      "source": [
        "1.**văn bản in đậm**"
      ],
      "metadata": {
        "id": "Xx6pdSXfJsBn"
      }
    },
    {
      "cell_type": "code",
      "source": [
        "from urllib.request import urlopen\n",
        "from bs4 import BeautifulSoup\n",
        "import re\n",
        "\n",
        "# Đường dẫn đến trang web gốc\n",
        "URL = 'https://vnexpress.net'\n",
        "#URL = 'https://nhandan.vn/'\n",
        "\n",
        "def get_links(url):\n",
        "    links = []\n",
        "    html = urlopen(url).read()\n",
        "    soup = BeautifulSoup(html, 'html.parser')\n",
        "\n",
        "    # Lấy tất cả đường dẫn trong trang web hiện tại\n",
        "    urls = set(re.findall(r'(?:http|https|fpt):\\/\\/(?:[\\w_-]+(?:(?:\\.[\\w_-]+)+))(?:[\\w.,@?^=%&=:/~+#-]*[\\w@?^=%&/~+#-])',\n",
        "        str(soup)\n",
        "    ))\n",
        "\n",
        "    for url in urls:\n",
        "        # Chỉ lấy đường dẫn là trang web chứa bài báo\n",
        "        if url != URL and url.startswith(URL) and not url.startswith(URL + '/tac-gia') and url.endswith('.html'):\n",
        "            links.append(url)\n",
        "\n",
        "    return links\n",
        "\n",
        "# Sử dụng hàm để lấy danh sách các đường dẫn\n",
        "links = get_links(URL)\n",
        "for link in links:\n",
        "    print(link)"
      ],
      "metadata": {
        "colab": {
          "base_uri": "https://localhost:8080/"
        },
        "id": "fmnwXlFjJvFM",
        "outputId": "33e7da00-921e-4a34-9645-1b9c4429ca2a"
      },
      "execution_count": 1,
      "outputs": [
        {
          "output_type": "stream",
          "name": "stdout",
          "text": [
            "https://vnexpress.net/brad-pitt-khong-the-lien-lac-pax-thien-sau-tai-nan-4776363.html\n",
            "https://vnexpress.net/vdv-trieu-tien-va-han-quoc-selfie-chung-tai-olympic-4776508.html\n",
            "https://vnexpress.net/chung-khoan-hom-nay-1-8-400-ma-tren-san-hose-giam-diem-4776587.html\n",
            "https://vnexpress.net/hoi-dong-bao-an-lhq-hop-khan-sau-vu-thu-linh-hamas-bi-am-sat-4776380.html\n",
            "https://vnexpress.net/mua-lon-gay-sat-lo-chia-cat-nhieu-quoc-lo-phia-bac-4776492.html\n",
            "https://vnexpress.net/bao-tang-truong-sa-co-kien-truc-huong-ve-bien-dong-4776299.html\n",
            "https://vnexpress.net/cang-thang-vi-bo-me-chon-ho-dai-hoc-4766103.html\n",
            "https://vnexpress.net/cuu-thanh-nien-roi-xuong-vuc-deo-prenn-4776413.html\n",
            "https://vnexpress.net/dien-thoai-con-dao-hai-luoi-tren-chien-truong-ukraine-4774165.html\n",
            "https://vnexpress.net/nadal-trang-tay-o-olympic-paris-2024-4776348.html\n",
            "https://vnexpress.net/trung-quoc-len-dan-dau-olympic-2024-4776356.html\n",
            "https://vnexpress.net/phan-manh-quynh-vo-giup-toi-giu-tien-4774969.html\n",
            "https://vnexpress.net/viet-nam-khuyen-cao-an-toan-cho-cong-dan-tai-israel-lebanon-4776439.html\n",
            "https://vnexpress.net/toa-nha-co-the-la-noi-thu-linh-hamas-bi-ha-sat-4776494.html\n",
            "https://vnexpress.net/thu-tuong-netanyahu-israel-da-tung-don-nghien-nat-ke-thu-4776339.html\n",
            "https://vnexpress.net/gia-vang-moi-nhat-hom-nay-1-8-4776409.html\n",
            "https://vnexpress.net/ke-chu-muu-vu-khung-bo-11-9-dat-thoa-thuan-nhan-toi-voi-my-4776349.html\n",
            "https://vnexpress.net/chinh-sach-noi-bat-co-hieu-luc-tu-thang-8-4776014.html\n",
            "https://vnexpress.net/chu-tich-nuoc-to-lam-chu-tri-le-don-tong-thong-timor-leste-4776466.html\n",
            "https://vnexpress.net/kinh-ngu-phap-lam-day-song-olympic-2024-4776562.html\n",
            "https://vnexpress.net/be-gai-7-tuoi-duoc-ghep-tim-tu-nguoi-hien-chet-nao-4776379.html\n",
            "https://vnexpress.net/djokovic-olympic-cang-hon-grand-slam-4776554.html\n",
            "https://vnexpress.net/nhung-thach-thuc-khi-trung-tu-chua-cau-4776236.html\n",
            "https://vnexpress.net/khai-mac-olympic-chia-re-hay-gan-ket-4776039.html\n",
            "https://vnexpress.net/vinfast-vf-3-den-tay-khach-viet-4776402.html\n",
            "https://vnexpress.net/lanh-tu-toi-cao-iran-ra-lenh-tan-cong-truc-tiep-vao-israel-4776350.html\n",
            "https://vnexpress.net/cham-cuoi-luoi-sinh-4776417.html\n"
          ]
        }
      ]
    },
    {
      "cell_type": "code",
      "source": [
        "import requests\n",
        "from bs4 import BeautifulSoup\n",
        "\n",
        "# Danh sách các chuyên mục\n",
        "categories = ['thoi-su', 'goc-nhin', 'the-gioi', 'kinh-doanh', 'bat-dong-san',\n",
        "              'khoa-hoc', 'giai-tri', 'the-thao', 'phap-luat', 'giao-duc',\n",
        "              'suc-khoe', 'doi-song','du-lich','oto-xe-may','y-kien','tam-su']\n",
        "\n",
        "article_url = {}\n",
        "\n",
        "# Lấy 10 trang trong mỗi chuyên mục\n",
        "for category in categories:\n",
        "  article_url[category] = []\n",
        "\n",
        "  #Lấy 10 trang trong mỗi chuyên mục\n",
        "  for i in range(1, 11):\n",
        "    url = '{}/{}-p{}'.format(URL,category,str(i))\n",
        "    article_url[category] += get_links(url)\n",
        "\n",
        "# Loại bỏ đường dẫn trùng nhau\n",
        "for category in article_url:\n",
        "  article_url[category] = list(set(article_url[category]))\n",
        "  print(category, len(article_url[category]))\n",
        "\n",
        "# Lấy riêng các đường dẫn trong chuyên mụcgóc nhìn theo từng thư mục con\n",
        "goc_nhin = ['chinh-tri-chinh-sach','y-te-suc-khoe','kinh-doanh-quan-tri', 'giao-duc-tri-thuc',\n",
        "            'moi-truong', 'van-hoa-loi-song', 'covid-19']\n",
        "\n",
        "article_url['goc-nhin'] = []\n",
        "\n",
        "for sub_cate in goc_nhin:\n",
        "  url = '{}/{}/{}'.format(URL,'goc-nhin',sub_cate)\n",
        "  article_url['goc-nhin'] += get_links(url)\n",
        "\n",
        "article_url['goc-nhin'] = list(set(article_url['goc-nhin']))\n",
        "print('goc-nhin', len(article_url['goc-nhin']))"
      ],
      "metadata": {
        "colab": {
          "base_uri": "https://localhost:8080/"
        },
        "id": "eAJ94Nd9KCZ0",
        "outputId": "46b220f0-58c1-47e9-8812-ddd96d3605ef"
      },
      "execution_count": 2,
      "outputs": [
        {
          "output_type": "stream",
          "name": "stdout",
          "text": [
            "thoi-su 313\n",
            "goc-nhin 103\n",
            "the-gioi 285\n",
            "kinh-doanh 287\n",
            "bat-dong-san 330\n",
            "khoa-hoc 299\n",
            "giai-tri 304\n",
            "the-thao 306\n",
            "phap-luat 296\n",
            "giao-duc 316\n",
            "suc-khoe 306\n",
            "doi-song 308\n",
            "du-lich 323\n",
            "oto-xe-may 319\n",
            "y-kien 302\n",
            "tam-su 70\n",
            "goc-nhin 89\n"
          ]
        }
      ]
    },
    {
      "cell_type": "markdown",
      "source": [
        "2."
      ],
      "metadata": {
        "id": "5HyHvWlYLaJL"
      }
    },
    {
      "cell_type": "code",
      "source": [
        "from urllib.request import urlopen\n",
        "from bs4 import BeautifulSoup\n",
        "\n",
        "def get_content(url):\n",
        "    # Mở trang bài báo\n",
        "    html = urlopen(url).read()\n",
        "    soup = BeautifulSoup(html, 'html.parser')\n",
        "\n",
        "    # Lấy phần chứa nội dung bài báo\n",
        "    div_content = soup.select('.page-detail .container')\n",
        "    if len(div_content) > 0:\n",
        "        div_content = div_content[0]\n",
        "\n",
        "        # Lấy phần mô tả\n",
        "        description = div_content.find_all('p', {'class': 'description'})\n",
        "        if len(description) > 0:\n",
        "            description = description[-1]\n",
        "            text_description = description.get_text()\n",
        "            location = description.find('span', {'class': 'location-stamp'})\n",
        "            if location is not None:\n",
        "                content = text_description[len(location.get_text()):]\n",
        "            else:\n",
        "                content = text_description\n",
        "        else:\n",
        "            content = \"\"\n",
        "\n",
        "        # Lấy phần chứa nội dung chi tiết bài báo\n",
        "        detail = div_content.find('article', {'class': 'ck_detail'})\n",
        "        if detail is not None:\n",
        "            p_normal = detail.find_all('p', {'class': 'Normal'})\n",
        "            if len(p_normal) > 0:\n",
        "                for p in p_normal:\n",
        "                    p_text = p.get_text()\n",
        "                    if p_text != '' and not p_text.startswith(('>>')) and p_text[-1] in ('.', '?', '!', ':'):\n",
        "                        content += ' ' + p.get_text()\n",
        "    else:\n",
        "        content = \"\"\n",
        "\n",
        "    return re.sub(r'\\n','',content)"
      ],
      "metadata": {
        "id": "3-QUItySLgP-"
      },
      "execution_count": 3,
      "outputs": []
    },
    {
      "cell_type": "code",
      "source": [
        "get_content(article_url['giao-duc'][2])"
      ],
      "metadata": {
        "colab": {
          "base_uri": "https://localhost:8080/",
          "height": 53
        },
        "id": "7NqBtJVYLlic",
        "outputId": "91bba3cc-595a-4263-b68c-9a5b4d5ce515"
      },
      "execution_count": 4,
      "outputs": [
        {
          "output_type": "execute_result",
          "data": {
            "text/plain": [
              "'Bỏ ôn thi học sinh giỏi quốc gia, Khôi Nguyên tập trung cho kỳ thi tốt nghiệp, đạt trung bình 9,58/10 điểm bài tổ hợp Khoa học tự nhiên, cao nhất toàn quốc.'"
            ],
            "application/vnd.google.colaboratory.intrinsic+json": {
              "type": "string"
            }
          },
          "metadata": {},
          "execution_count": 4
        }
      ]
    },
    {
      "cell_type": "code",
      "source": [
        "import os\n",
        "import re\n",
        "\n",
        "# Danh sách tất cả các câu đã làm sạch của tất cả các bài viết\n",
        "sentence = []\n",
        "# Chữ cái in hoa của tiếng Việt\n",
        "uppercase = 'AÁÀẢÃẠÂẤẦẨẪẬĂẮẰẲẴẶBCDĐEÉÈẺẼẸÊẾỀỂỄỆFGHIÍÌỈĨỊJKLMNOÓÒỎÕỌÔỐỒỔỖỘƠỚỜỞỠỢPQRSTUÚÙỦŨỤƯỨỪỬỮỰVWXYZÝỲỶỸỴZ'\n",
        "\n",
        "for category in article_url.keys():\n",
        "    # Tạo folder chuyên mục để chứa các file bài viết\n",
        "    current_path = 'data/categories/' + category + '/'\n",
        "    os.makedirs(current_path, exist_ok=True)\n",
        "\n",
        "    # Lưu các bài viết thành từng file\n",
        "    count = 0\n",
        "    for i in range(len(article_url[category])):\n",
        "      content = get_content(article_url[category][i])\n",
        "      if content != '':\n",
        "        count += 1\n",
        "        f = open('{}/{}_{}.txt'.format(current_path, category, str(count)), 'w', encoding='utf-8')\n",
        "\n",
        "        # Chèn khoảng cách vào sau các câu chưa chuẩn\n",
        "        lines = re.sub(r'(?<=[.?!])(?=[\\'\"`“’]*['+ uppercase + '-])', ' ', content)\n",
        "\n",
        "        # Tách bài viết thành các câu\n",
        "        lines = re.split(r'(?<=[.?!])\\s+(?=[\\'\"`“’]*[' + uppercase + '0-9-])', content)\n",
        "\n",
        "\n",
        "        # Ghi từng câu trong bài viết vào file\n",
        "        for line in lines:\n",
        "          f.write(line + '\\n')\n",
        "          sentence.append(line)\n",
        "        f.close()\n",
        "    #Số bài viết trong chuyên mục\n",
        "    print(category, count)\n",
        "sentence =list(set(sentence))\n",
        "print('Tổng số câu tách được:', len(sentence))"
      ],
      "metadata": {
        "colab": {
          "base_uri": "https://localhost:8080/"
        },
        "id": "exDDm3MULwaD",
        "outputId": "fc3b359b-b3cb-4809-f08d-d74c6f303244"
      },
      "execution_count": 5,
      "outputs": [
        {
          "output_type": "stream",
          "name": "stdout",
          "text": [
            "thoi-su 312\n",
            "goc-nhin 89\n",
            "the-gioi 285\n",
            "kinh-doanh 286\n",
            "bat-dong-san 326\n",
            "khoa-hoc 299\n",
            "giai-tri 304\n",
            "the-thao 306\n",
            "phap-luat 296\n",
            "giao-duc 313\n",
            "suc-khoe 306\n",
            "doi-song 280\n",
            "du-lich 318\n",
            "oto-xe-may 308\n",
            "y-kien 302\n",
            "tam-su 69\n",
            "Tổng số câu tách được: 4478\n"
          ]
        }
      ]
    },
    {
      "cell_type": "code",
      "source": [
        "import os\n",
        "import re\n",
        "\n",
        "with open('/content/data/corpus.txt', 'w', encoding=\"utf-8\") as file_corpus:\n",
        "    count = 0\n",
        "\n",
        "    for sent in sentence:\n",
        "        # Xóa bỏ ký tự thừa\n",
        "        sent = re.sub(r'\\u200b', '', sent)  # Use re.sub() for substitution\n",
        "\n",
        "        # Ghi câu vào file ngữ liệu\n",
        "        file_corpus.write(sent.strip() + '\\n')\n",
        "\n",
        "        # Đếm số lượng câu\n",
        "        count += 1\n",
        "\n",
        "print(\"Số lượng câu trong file ngữ liệu:\", count)"
      ],
      "metadata": {
        "colab": {
          "base_uri": "https://localhost:8080/"
        },
        "id": "5CScuTHliKGR",
        "outputId": "e0487443-4be7-4f71-8d2f-2cf5bd89a7ef"
      },
      "execution_count": 6,
      "outputs": [
        {
          "output_type": "stream",
          "name": "stdout",
          "text": [
            "Số lượng câu trong file ngữ liệu: 4478\n"
          ]
        }
      ]
    },
    {
      "cell_type": "code",
      "source": [
        "from google.colab import drive\n",
        "drive.mount('/content/drive')"
      ],
      "metadata": {
        "id": "pTsPPWLD3Rkz"
      },
      "execution_count": null,
      "outputs": []
    }
  ]
}