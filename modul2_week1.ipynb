{
  "cells": [
    {
      "cell_type": "code",
      "execution_count": null,
      "metadata": {
        "id": "1EtKNchw9TVH"
      },
      "outputs": [],
      "source": [
        "import numpy as np\n",
        "arr = np . arange (0 , 10 , 1)"
      ]
    },
    {
      "cell_type": "code",
      "execution_count": 3,
      "metadata": {
        "id": "bDFgRBHZy0lp"
      },
      "outputs": [],
      "source": [
        "import numpy as np\n",
        "arr = np.full((3, 3), fill_value = True, dtype = bool )"
      ]
    },
    {
      "cell_type": "code",
      "execution_count": 4,
      "metadata": {
        "colab": {
          "base_uri": "https://localhost:8080/"
        },
        "id": "16l0KFLq-uLN",
        "outputId": "9bd51c45-d545-4de4-ffa0-e2923787cba0"
      },
      "outputs": [
        {
          "name": "stdout",
          "output_type": "stream",
          "text": [
            "[[ True  True  True]\n",
            " [ True  True  True]\n",
            " [ True  True  True]]\n"
          ]
        }
      ],
      "source": [
        "print(arr)"
      ]
    },
    {
      "cell_type": "code",
      "execution_count": 5,
      "metadata": {
        "colab": {
          "base_uri": "https://localhost:8080/"
        },
        "id": "5llkw7uXzXQb",
        "outputId": "bed14eb9-dc8c-4fe3-b2b3-c4b633862a65"
      },
      "outputs": [
        {
          "name": "stdout",
          "output_type": "stream",
          "text": [
            "[1 3 5 7 9]\n"
          ]
        }
      ],
      "source": [
        "import numpy as np\n",
        "arr = np.arange (0 ,10)\n",
        "print(arr [ arr %2 == 1])"
      ]
    },
    {
      "cell_type": "code",
      "execution_count": 7,
      "metadata": {
        "colab": {
          "base_uri": "https://localhost:8080/"
        },
        "id": "SVYlO9CKze53",
        "outputId": "f703959f-345c-4220-8e71-b5b1cc127280"
      },
      "outputs": [
        {
          "name": "stdout",
          "output_type": "stream",
          "text": [
            "[ 0 -1  2 -1  4 -1  6 -1  8 -1]\n"
          ]
        }
      ],
      "source": [
        "import numpy as np\n",
        "arr = np.arange (0 ,10)\n",
        "arr[arr%2 ==1] = -1\n",
        "print(arr)"
      ]
    },
    {
      "cell_type": "code",
      "execution_count": 8,
      "metadata": {
        "colab": {
          "base_uri": "https://localhost:8080/"
        },
        "id": "w4W2r00Yz22P",
        "outputId": "b8d183af-6ead-46aa-90e1-b0a361cba06f"
      },
      "outputs": [
        {
          "name": "stdout",
          "output_type": "stream",
          "text": [
            "[[0 1 2 3 4]\n",
            " [5 6 7 8 9]]\n"
          ]
        }
      ],
      "source": [
        "import numpy as np\n",
        "arr = np.arange(10)\n",
        "arr_2d = arr.reshape(2, -1)\n",
        "print (arr_2d)"
      ]
    },
    {
      "cell_type": "code",
      "execution_count": 9,
      "metadata": {
        "colab": {
          "base_uri": "https://localhost:8080/"
        },
        "id": "uzGI74q80KQf",
        "outputId": "0b128572-1d57-4998-d865-073ef7e939a9"
      },
      "outputs": [
        {
          "name": "stdout",
          "output_type": "stream",
          "text": [
            " Result : \n",
            " [[0 1 2 3 4]\n",
            " [5 6 7 8 9]\n",
            " [1 1 1 1 1]\n",
            " [1 1 1 1 1]]\n"
          ]
        }
      ],
      "source": [
        "import numpy as np\n",
        "arr1 = np.arange(10).reshape (2, -1)\n",
        "arr2 = np.repeat(1,10).reshape (2, -1)\n",
        "c = np . concatenate ([ arr1 , arr2 ], axis =0)\n",
        "print (\" Result : \\n\", c )"
      ]
    },
    {
      "cell_type": "code",
      "execution_count": 10,
      "metadata": {
        "colab": {
          "base_uri": "https://localhost:8080/"
        },
        "id": "-FnoTYJn0liZ",
        "outputId": "c4549abe-d047-40c8-82db-4e0fecbd1331"
      },
      "outputs": [
        {
          "name": "stdout",
          "output_type": "stream",
          "text": [
            "C =  [[0 1 2 3 4 1 1 1 1 1]\n",
            " [5 6 7 8 9 1 1 1 1 1]]\n"
          ]
        }
      ],
      "source": [
        "import numpy as np\n",
        "arr1 = np.arange (10).reshape (2 , -1)\n",
        "arr2 = np.repeat (1 ,10).reshape (2 , -1)\n",
        "c = np.concatenate ([ arr1 , arr2 ], axis =1)\n",
        "print (\"C = \", c )"
      ]
    },
    {
      "cell_type": "code",
      "execution_count": null,
      "metadata": {
        "colab": {
          "base_uri": "https://localhost:8080/"
        },
        "id": "P88978Xs06to",
        "outputId": "ed94da4a-9eb3-431d-ab16-78760db64b76"
      },
      "outputs": [
        {
          "name": "stdout",
          "output_type": "stream",
          "text": [
            "[1 1 1 2 2 2 3 3 3]\n",
            "[1 2 3 1 2 3 1 2 3]\n"
          ]
        }
      ],
      "source": [
        "import numpy as np\n",
        "arr = np.array ([1,2,3])\n",
        "print (np.repeat (arr ,3) )\n",
        "print (np.tile (arr, 3) )"
      ]
    },
    {
      "cell_type": "code",
      "execution_count": null,
      "metadata": {
        "colab": {
          "base_uri": "https://localhost:8080/"
        },
        "id": "OXVWixdq1LQH",
        "outputId": "0fa1bb34-6672-4615-8738-c68c61940223"
      },
      "outputs": [
        {
          "name": "stdout",
          "output_type": "stream",
          "text": [
            "result  [ 6  9 10]\n"
          ]
        }
      ],
      "source": [
        "import numpy as np\n",
        "a = np.array([2, 6, 1, 9, 10, 3, 27])\n",
        "index = (a>=5) & (a<=10)\n",
        "print(\"result \", a[index])"
      ]
    },
    {
      "cell_type": "code",
      "execution_count": 13,
      "metadata": {
        "colab": {
          "base_uri": "https://localhost:8080/"
        },
        "id": "eFSgeV8D1jdQ",
        "outputId": "0a9a9556-ff82-4d4c-8753-1b2051696713"
      },
      "outputs": [
        {
          "name": "stdout",
          "output_type": "stream",
          "text": [
            "[6. 7. 9. 8. 9. 7. 5.]\n"
          ]
        }
      ],
      "source": [
        "import numpy as np\n",
        "def maxx (x , y ) :\n",
        "  if x >= y :\n",
        "    return x\n",
        "  else :\n",
        "    return y\n",
        "\n",
        "a = np.array ([5 ,7 ,9 ,8 ,6 ,4 ,5])\n",
        "b = np.array ([6 ,3 ,4 ,8 ,9 ,7 ,1])\n",
        "\n",
        "pair_max = np.vectorize (maxx, otypes =[float ])\n",
        "print(pair_max(a, b ) )"
      ]
    },
    {
      "cell_type": "code",
      "execution_count": 14,
      "metadata": {
        "colab": {
          "base_uri": "https://localhost:8080/"
        },
        "id": "xLC768K42HOB",
        "outputId": "c6516eae-c4b1-4311-d87f-f388637a91a6"
      },
      "outputs": [
        {
          "name": "stdout",
          "output_type": "stream",
          "text": [
            "Result  [6 7 9 8 9 7 5]\n"
          ]
        }
      ],
      "source": [
        "import numpy as np\n",
        "\n",
        "a = np.array ([5 ,7 ,9 ,8 ,6 ,4 ,5])\n",
        "b = np.array ([6 ,3 ,4 ,8 ,9 ,7 ,1])\n",
        "\n",
        "print(\"Result \", np.where (a <b, b, a))"
      ]
    },
    {
      "cell_type": "code",
      "execution_count": null,
      "metadata": {
        "colab": {
          "base_uri": "https://localhost:8080/"
        },
        "id": "sL5H28VO256A",
        "outputId": "687405ba-6c60-4811-813e-6cf520385c49"
      },
      "outputs": [
        {
          "name": "stdout",
          "output_type": "stream",
          "text": [
            "Downloading...\n",
            "From: https://drive.google.com/uc?id=1i9dqan21DjQoG5Q_VEvm0LrVwAlXD0vB\n",
            "To: /content/dog.jpeg\n",
            "\r  0% 0.00/33.7k [00:00<?, ?B/s]\r100% 33.7k/33.7k [00:00<00:00, 63.1MB/s]\n"
          ]
        },
        {
          "data": {
            "text/plain": [
              "102.5"
            ]
          },
          "execution_count": 25,
          "metadata": {},
          "output_type": "execute_result"
        }
      ],
      "source": [
        "! gdown 1i9dqan21DjQoG5Q_VEvm0LrVwAlXD0vB\n",
        "\n",
        "import matplotlib.image as mpimg\n",
        "img = mpimg.imread ('dog.jpeg')\n",
        "\n",
        "# Your Code Here\n",
        "gray_img_01 = (np.max(img, axis = 2) + np.min(img, axis=2)) / 2\n",
        "gray_img_01 [0 , 0]"
      ]
    },
    {
      "cell_type": "code",
      "execution_count": 27,
      "metadata": {
        "colab": {
          "base_uri": "https://localhost:8080/"
        },
        "id": "--Ydsgy86n5o",
        "outputId": "ceb4ff44-514d-4223-c1d4-59165ef8f7b6"
      },
      "outputs": [
        {
          "name": "stdout",
          "output_type": "stream",
          "text": [
            "Downloading...\n",
            "From: https://drive.google.com/uc?id=1i9dqan21DjQoG5Q_VEvm0LrVwAlXD0vB\n",
            "To: /content/dog.jpeg\n",
            "\r  0% 0.00/33.7k [00:00<?, ?B/s]\r100% 33.7k/33.7k [00:00<00:00, 58.1MB/s]\n"
          ]
        },
        {
          "data": {
            "text/plain": [
              "107.66666666666667"
            ]
          },
          "execution_count": 27,
          "metadata": {},
          "output_type": "execute_result"
        }
      ],
      "source": [
        "# Download image\n",
        "! gdown 1i9dqan21DjQoG5Q_VEvm0LrVwAlXD0vB\n",
        "\n",
        "import matplotlib.image as mpimg\n",
        "img = mpimg.imread('.\\dog.jpeg')\n",
        "# Your Code Here\n",
        "gray_img_02 = np.mean(img, axis = 2)\n",
        "gray_img_02 [0, 0]"
      ]
    },
    {
      "cell_type": "code",
      "execution_count": 29,
      "metadata": {
        "colab": {
          "base_uri": "https://localhost:8080/"
        },
        "id": "r4C1bU9W7d5d",
        "outputId": "07eaad47-7c76-4402-9fb7-0623403aa48e"
      },
      "outputs": [
        {
          "name": "stdout",
          "output_type": "stream",
          "text": [
            "Downloading...\n",
            "From: https://drive.google.com/uc?id=1i9dqan21DjQoG5Q_VEvm0LrVwAlXD0vB\n",
            "To: /content/dog.jpeg\n",
            "\r  0% 0.00/33.7k [00:00<?, ?B/s]\r100% 33.7k/33.7k [00:00<00:00, 61.7MB/s]\n"
          ]
        },
        {
          "data": {
            "text/plain": [
              "126.22999999999999"
            ]
          },
          "execution_count": 29,
          "metadata": {},
          "output_type": "execute_result"
        }
      ],
      "source": [
        "# Download image\n",
        "! gdown 1i9dqan21DjQoG5Q_VEvm0LrVwAlXD0vB\n",
        "\n",
        "import matplotlib.image as mpimg\n",
        "img = mpimg.imread ('.\\dog.jpeg')\n",
        "# Your Code Here\n",
        "gray_img_03 = 0.21 * img[:, :, 0] + 0.72 * img[:, :, 1] + 0.07 * img[:, :, 2]\n",
        "gray_img_03 [0 , 0]"
      ]
    },
    {
      "cell_type": "code",
      "execution_count": 38,
      "metadata": {
        "colab": {
          "base_uri": "https://localhost:8080/"
        },
        "id": "53s6OhZH9NE7",
        "outputId": "a755dfdc-915b-4ca8-c3c2-2cb1a797a253"
      },
      "outputs": [
        {
          "name": "stdout",
          "output_type": "stream",
          "text": [
            "Downloading...\n",
            "From: https://drive.google.com/uc?id=1iA0WmVfW88HyJvTBSQDI5vesf-pgKabq\n",
            "To: /content/advertising.csv\n",
            "\r  0% 0.00/4.06k [00:00<?, ?B/s]\r100% 4.06k/4.06k [00:00<00:00, 11.5MB/s]\n"
          ]
        },
        {
          "data": {
            "text/plain": [
              "(27.0, 175)"
            ]
          },
          "execution_count": 38,
          "metadata": {},
          "output_type": "execute_result"
        }
      ],
      "source": [
        "# Download data\n",
        "! gdown 1iA0WmVfW88HyJvTBSQDI5vesf-pgKabq\n",
        "import pandas as pd\n",
        "df = pd.read_csv ('\\advertising.csv')\n",
        "data = df.to_numpy()\n",
        "sales = data[:, -1]\n",
        "\n",
        "max_value = np.max(sales)\n",
        "max_index = np.argmax(sales)\n",
        "\n",
        "(max_value, max_index)"
      ]
    },
    {
      "cell_type": "code",
      "execution_count": 40,
      "metadata": {
        "colab": {
          "base_uri": "https://localhost:8080/"
        },
        "id": "iSTMAurfA0vS",
        "outputId": "29ff5cba-d1ed-4683-9b67-ec131c1207f8"
      },
      "outputs": [
        {
          "name": "stdout",
          "output_type": "stream",
          "text": [
            "Downloading...\n",
            "From: https://drive.google.com/uc?id=1iA0WmVfW88HyJvTBSQDI5vesf-pgKabq\n",
            "To: /content/advertising.csv\n",
            "\r  0% 0.00/4.06k [00:00<?, ?B/s]\r100% 4.06k/4.06k [00:00<00:00, 14.0MB/s]\n",
            "147.0425\n"
          ]
        }
      ],
      "source": [
        "# Download data\n",
        "! gdown 1iA0WmVfW88HyJvTBSQDI5vesf-pgKabq\n",
        "import pandas as pd\n",
        "df = pd.read_csv ('advertising.csv')\n",
        "data = df.to_numpy()\n",
        "tvs = data[:, 0]\n",
        "\n",
        "mean_value = np.mean(tvs)\n",
        "print(mean_value)"
      ]
    },
    {
      "cell_type": "code",
      "execution_count": 45,
      "metadata": {
        "colab": {
          "base_uri": "https://localhost:8080/"
        },
        "id": "lQVr0fh2BkOJ",
        "outputId": "c428b1dc-0de5-4579-b53d-dea0f80c7a81"
      },
      "outputs": [
        {
          "name": "stdout",
          "output_type": "stream",
          "text": [
            "Downloading...\n",
            "From: https://drive.google.com/uc?id=1iA0WmVfW88HyJvTBSQDI5vesf-pgKabq\n",
            "To: /content/advertising.csv\n",
            "\r  0% 0.00/4.06k [00:00<?, ?B/s]\r100% 4.06k/4.06k [00:00<00:00, 12.2MB/s]\n",
            "40\n"
          ]
        }
      ],
      "source": [
        "# Download data\n",
        "! gdown 1iA0WmVfW88HyJvTBSQDI5vesf-pgKabq\n",
        "import pandas as pd\n",
        "df = pd.read_csv ('advertising.csv')\n",
        "data = df.to_numpy()\n",
        "sales = data[:, -1]\n",
        "count_value = np.sum(sales >=20)\n",
        "print(count_value )"
      ]
    },
    {
      "cell_type": "code",
      "execution_count": 46,
      "metadata": {
        "colab": {
          "base_uri": "https://localhost:8080/"
        },
        "id": "yjxBxb8fC-Eb",
        "outputId": "4735153c-4e5e-4017-d16d-4a96f81ebbb6"
      },
      "outputs": [
        {
          "name": "stdout",
          "output_type": "stream",
          "text": [
            "Downloading...\n",
            "From: https://drive.google.com/uc?id=1iA0WmVfW88HyJvTBSQDI5vesf-pgKabq\n",
            "To: /content/advertising.csv\n",
            "\r  0% 0.00/4.06k [00:00<?, ?B/s]\r100% 4.06k/4.06k [00:00<00:00, 10.0MB/s]\n",
            "26.22293577981651\n"
          ]
        }
      ],
      "source": [
        "# Download data\n",
        "! gdown 1iA0WmVfW88HyJvTBSQDI5vesf-pgKabq\n",
        "import pandas as pd\n",
        "df = pd.read_csv ('./advertising.csv')\n",
        "data = df.to_numpy()\n",
        "sales = data[:, -1]\n",
        "radio = data[:, 1]\n",
        "value = sales >=15\n",
        "g_radio= radio[value]\n",
        "mean_radio = np.mean(g_radio)\n",
        "print(mean_radio)"
      ]
    },
    {
      "cell_type": "code",
      "execution_count": 48,
      "metadata": {
        "colab": {
          "base_uri": "https://localhost:8080/"
        },
        "id": "ByXEyxZWEWx9",
        "outputId": "e05c42c2-d562-4381-f817-794ff70ade46"
      },
      "outputs": [
        {
          "name": "stdout",
          "output_type": "stream",
          "text": [
            "Downloading...\n",
            "From: https://drive.google.com/uc?id=1iA0WmVfW88HyJvTBSQDI5vesf-pgKabq\n",
            "To: /content/advertising.csv\n",
            "\r  0% 0.00/4.06k [00:00<?, ?B/s]\r100% 4.06k/4.06k [00:00<00:00, 15.7MB/s]\n",
            "1405.1\n"
          ]
        }
      ],
      "source": [
        "# Download data\n",
        "! gdown 1iA0WmVfW88HyJvTBSQDI5vesf-pgKabq\n",
        "import pandas as pd\n",
        "df = pd.read_csv ('./advertising.csv')\n",
        "data = df.to_numpy()\n",
        "\n",
        "sales = data[:, -1]\n",
        "newspaper = data[:, 2]\n",
        "value = newspaper >np.mean(newspaper)\n",
        "g_sales= sales[value]\n",
        "sum_radio = np.sum(g_sales)\n",
        "print(sum_radio)"
      ]
    },
    {
      "cell_type": "code",
      "execution_count": 49,
      "metadata": {
        "colab": {
          "base_uri": "https://localhost:8080/"
        },
        "id": "snmTrJlVFdY_",
        "outputId": "68d537bc-e2f2-47df-b3b3-c65612bd2e39"
      },
      "outputs": [
        {
          "name": "stdout",
          "output_type": "stream",
          "text": [
            "Downloading...\n",
            "From: https://drive.google.com/uc?id=1iA0WmVfW88HyJvTBSQDI5vesf-pgKabq\n",
            "To: /content/advertising.csv\n",
            "\r  0% 0.00/4.06k [00:00<?, ?B/s]\r100% 4.06k/4.06k [00:00<00:00, 14.3MB/s]\n",
            "['Bad' 'Bad' 'Good']\n"
          ]
        }
      ],
      "source": [
        "# Download data\n",
        "!gdown 1iA0WmVfW88HyJvTBSQDI5vesf-pgKabq\n",
        "\n",
        "import pandas as pd\n",
        "import numpy as np\n",
        "df = pd.read_csv('.\\advertising.csv')\n",
        "data = df.to_numpy()\n",
        "\n",
        "sales = data[:, -1]\n",
        "\n",
        "A = np.mean(sales)\n",
        "\n",
        "scores = np.where(sales > A, 'Good', np.where(sales < A, 'Bad', 'Average'))\n",
        "\n",
        "print(scores[7:10])"
      ]
    },
    {
      "cell_type": "code",
      "execution_count": 54,
      "metadata": {
        "colab": {
          "base_uri": "https://localhost:8080/"
        },
        "id": "nT3RCEewF1Vb",
        "outputId": "a3401073-1308-442c-9116-23a82523ee17"
      },
      "outputs": [
        {
          "name": "stdout",
          "output_type": "stream",
          "text": [
            "['Bad' 'Bad' 'Good']\n"
          ]
        }
      ],
      "source": [
        "import pandas as pd\n",
        "import numpy as np\n",
        "df = pd.read_csv('.\\advertising.csv')\n",
        "data = df.to_numpy()\n",
        "\n",
        "sales = data[:, -1]\n",
        "\n",
        "B = np.mean(sales)\n",
        "A = sales[np.abs(sales - B).argmin()]\n",
        "\n",
        "scores = np.where(sales > A, 'Good', np.where(sales < A, 'Bad', 'Average'))\n",
        "\n",
        "print(scores[7:10])"
      ]
    }
  ],
  "metadata": {
    "colab": {
      "provenance": []
    },
    "kernelspec": {
      "display_name": "Python 3",
      "name": "python3"
    },
    "language_info": {
      "name": "python"
    }
  },
  "nbformat": 4,
  "nbformat_minor": 0
}
