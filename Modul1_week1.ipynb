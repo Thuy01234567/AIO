{
  "cells": [
    {
      "cell_type": "code",
      "execution_count": 4,
      "metadata": {
        "colab": {
          "base_uri": "https://localhost:8080/"
        },
        "id": "oRN4XGgwJdeh",
        "outputId": "bddc9de8-adc0-49e3-df4c-ac96ba89980f"
      },
      "outputs": [
        {
          "name": "stdout",
          "output_type": "stream",
          "text": [
            "Print single variable ( var1 ):  str_var1\n",
            "Print more than one variables : var1 =str_var1 , var2 =3 , var3 =15.5\n"
          ]
        }
      ],
      "source": [
        "# Examples\n",
        "var1 = 'str_var1'\n",
        "var2 = 3\n",
        "var3 = 15.5\n",
        "print ('Print single variable ( var1 ): ', var1 )\n",
        "print ( f'Print more than one variables : var1 ={var1} , var2 ={var2} , var3 ={var3}')"
      ]
    },
    {
      "cell_type": "code",
      "execution_count": null,
      "metadata": {
        "colab": {
          "base_uri": "https://localhost:8080/"
        },
        "id": "k_P3HIVOKLNb",
        "outputId": "a7b12766-094f-4a6c-df5a-6e95331332c4"
      },
      "outputs": [
        {
          "name": "stdout",
          "output_type": "stream",
          "text": [
            "0.33\n",
            "0.31\n"
          ]
        }
      ],
      "source": [
        "import math\n",
        "def calc_f1_score(tp, fp, fn):\n",
        "  if (type(tp) == int()) and (type(fp) == int()) and (type(fn) == int()):\n",
        "    pr = tp/(tp + fp)\n",
        "    re = tp/(tp + fn)\n",
        "    f1 = 2*pr*re/(pr + re)\n",
        "  else:\n",
        "    print('tp, fp, fn must be int')\n",
        "    exit\n",
        "  return f1\n",
        "\n",
        "print(round (calc_f1_score(tp = 2, fp = 3 , fn = 5), 2))\n",
        "print(round(calc_f1_score(tp = 2, fp = 4, fn = 5),2))"
      ]
    },
    {
      "cell_type": "code",
      "execution_count": 81,
      "metadata": {
        "colab": {
          "base_uri": "https://localhost:8080/"
        },
        "id": "DAc3RMtTR4sL",
        "outputId": "69b63b3e-30a2-4328-a8cd-d451bdf8ff3b"
      },
      "outputs": [
        {
          "name": "stdout",
          "output_type": "stream",
          "text": [
            "True\n",
            "False\n",
            "True\n",
            "False\n"
          ]
        }
      ],
      "source": [
        "import math\n",
        "import re\n",
        "def is_number(n):\n",
        "  try :\n",
        "    float (n) # Type - casting the string to ‘float ‘.\n",
        "  # If string is not a valid ‘float ‘ ,\n",
        "  # it ’ll raise ‘ValueError ‘ exception\n",
        "  except ValueError :\n",
        "    return False\n",
        "  return True\n",
        "#def is_number(n):\n",
        " # if type(n)==int:\n",
        " #   return True\n",
        " # else:\n",
        "  #  return bool(re.match(r'^\\d+$', n))\n",
        "\n",
        "# End your code\n",
        "print(is_number (3))\n",
        "print(is_number ('-2a'))\n",
        "print (is_number (1) )\n",
        "print (is_number ('n') )"
      ]
    },
    {
      "cell_type": "code",
      "execution_count": null,
      "metadata": {
        "id": "B88walHMnFUB"
      },
      "outputs": [],
      "source": [
        "def is_number (n):\n",
        "  try :\n",
        "    float (n ) # Type - casting the string to ‘float ‘.\n",
        "  # If string is not a valid ‘float ‘ ,\n",
        "  # it ’ll raise ‘ValueError ‘ exception\n",
        "  except ValueError :\n",
        "    return False\n",
        "  return True"
      ]
    },
    {
      "cell_type": "code",
      "execution_count": 72,
      "metadata": {
        "colab": {
          "base_uri": "https://localhost:8080/"
        },
        "id": "M6KRErDXcBMs",
        "outputId": "5fa87d1c-c315-4fa9-8e85-eb071482564c"
      },
      "outputs": [
        {
          "name": "stdout",
          "output_type": "stream",
          "text": [
            "0.95\n",
            "0.88\n"
          ]
        }
      ],
      "source": [
        "import math\n",
        "def calc_sig(x):\n",
        "#Your code here\n",
        "  y = 1/(1+math.exp(-x))\n",
        "  return y\n",
        "#End your code\n",
        "\n",
        "print(round(calc_sig(3),2))\n",
        "print (round(calc_sig(2),2) )"
      ]
    },
    {
      "cell_type": "code",
      "execution_count": 57,
      "metadata": {
        "colab": {
          "base_uri": "https://localhost:8080/"
        },
        "id": "aXjmfGlTdPMC",
        "outputId": "a8099fab-5e84-4bbe-ad9c-c9cfcfe8ad19"
      },
      "outputs": [
        {
          "name": "stdout",
          "output_type": "stream",
          "text": [
            "1\n",
            "-0.01\n"
          ]
        }
      ],
      "source": [
        "import math\n",
        "def calc_elu(x):\n",
        "# Your code here\n",
        "  if x > 0:\n",
        "    y = x\n",
        "  else:\n",
        "    y= 0.01*(math.exp(x)-1)\n",
        "  # End your code\n",
        "  return y\n",
        "print(round(calc_elu (1)))\n",
        "print(round(calc_elu (-1) ,2) )"
      ]
    },
    {
      "cell_type": "code",
      "execution_count": 69,
      "metadata": {
        "colab": {
          "base_uri": "https://localhost:8080/"
        },
        "id": "1HHpLKc_gvBV",
        "outputId": "2562a2fa-212c-4b71-dc47-e4993914cfd2"
      },
      "outputs": [
        {
          "name": "stdout",
          "output_type": "stream",
          "text": [
            "1\n"
          ]
        }
      ],
      "source": [
        "import math\n",
        "def calc_relu(x):\n",
        "# Your code here\n",
        "  if x <=0:\n",
        "    y = 0.0\n",
        "  else :\n",
        "    y = x\n",
        "  return y\n",
        "print(calc_relu(1))"
      ]
    },
    {
      "cell_type": "code",
      "execution_count": 76,
      "metadata": {
        "colab": {
          "base_uri": "https://localhost:8080/"
        },
        "id": "l1u1dzmqe4T1",
        "outputId": "eb62740a-126d-4e8c-dce3-72f5576f0f94"
      },
      "outputs": [
        {
          "name": "stdout",
          "output_type": "stream",
          "text": [
            "0.95\n"
          ]
        }
      ],
      "source": [
        "import math\n",
        "def calc_activation_func(x, act_name):\n",
        "# Your code here\n",
        "  a =0\n",
        "  if act_name=='relu':\n",
        "   a = calc_relu(x)\n",
        "  if act_name=='sigmoid':\n",
        "   a = calc_sig(x)\n",
        "  if act_name=='elu':\n",
        "   a = calc_elu(x)\n",
        "  return a\n",
        "# End your code\n",
        "assert calc_activation_func(x = 1, act_name ='relu') == 1\n",
        "print(round(calc_activation_func(x =3, act_name ='sigmoid'),2) )"
      ]
    },
    {
      "cell_type": "code",
      "execution_count": 78,
      "metadata": {
        "colab": {
          "base_uri": "https://localhost:8080/"
        },
        "id": "E1vVo-tIkceD",
        "outputId": "bfa6b7d0-01ad-4ba7-ab1c-277d228813e3"
      },
      "outputs": [
        {
          "name": "stdout",
          "output_type": "stream",
          "text": [
            "7\n"
          ]
        }
      ],
      "source": [
        "def calc_ae(y, y_hat ) :\n",
        "# Your code here\n",
        "  err= abs(y - y_hat)\n",
        "  return err\n",
        "# End your code\n",
        "\n",
        "y = 1\n",
        "y_hat = 6\n",
        "assert calc_ae(y, y_hat) ==5\n",
        "y = 2\n",
        "y_hat = 9\n",
        "print(calc_ae(y, y_hat))"
      ]
    },
    {
      "cell_type": "code",
      "execution_count": 80,
      "metadata": {
        "colab": {
          "base_uri": "https://localhost:8080/"
        },
        "id": "E0IPpI3-lgze",
        "outputId": "1e105a30-c72c-4192-8f15-db74a94091c4"
      },
      "outputs": [
        {
          "name": "stdout",
          "output_type": "stream",
          "text": [
            "4\n",
            "1\n"
          ]
        }
      ],
      "source": [
        "def calc_se(y, y_hat ):\n",
        "# Your code here\n",
        "  err=(y-y_hat)**2\n",
        "  return err\n",
        "# End your code\n",
        "y= 4\n",
        "y_hat = 2\n",
        "print(calc_se(y, y_hat))\n",
        "print(calc_se(2, 1) )"
      ]
    },
    {
      "cell_type": "code",
      "execution_count": 119,
      "metadata": {
        "colab": {
          "base_uri": "https://localhost:8080/"
        },
        "id": "6FnC_dP5qwal",
        "outputId": "663ed780-f349-4951-9916-23a0997302db"
      },
      "outputs": [
        {
          "name": "stdout",
          "output_type": "stream",
          "text": [
            "6\n"
          ]
        }
      ],
      "source": [
        "def gtx (n):\n",
        "# Tinh giai thua\n",
        "  if n < 0:\n",
        "    print(\"Input number than 0!\")\n",
        "  else:\n",
        "    GT= 1\n",
        "    for i in range(1, n+1):\n",
        "        GT*= i\n",
        "  return GT\n",
        "print(gtx(3))"
      ]
    },
    {
      "cell_type": "code",
      "execution_count": null,
      "metadata": {
        "colab": {
          "base_uri": "https://localhost:8080/"
        },
        "id": "L3a68lUkmP5v",
        "outputId": "192760b8-e944-4744-8694-a0d7a36e3976"
      },
      "outputs": [
        {
          "name": "stdout",
          "output_type": "stream",
          "text": [
            "-1.0\n"
          ]
        }
      ],
      "source": [
        "def approx_cos(x ,n ):\n",
        "# Your code here\n",
        "  cos1 = sum(((-1)**k)*(x**(2*k)/gtx(2*k)) for k in range(0, n))\n",
        "  return cos1\n",
        "# End your code\n",
        "\n",
        "print(round(approx_cos(x = 3.14, n = 10), 2) )"
      ]
    },
    {
      "cell_type": "code",
      "execution_count": 144,
      "metadata": {
        "colab": {
          "base_uri": "https://localhost:8080/"
        },
        "id": "Ut4zSAVI16EG",
        "outputId": "12c3ebfb-cded-4eeb-f91a-2039f84eff4b"
      },
      "outputs": [
        {
          "name": "stdout",
          "output_type": "stream",
          "text": [
            "0.0016\n"
          ]
        }
      ],
      "source": [
        "def approx_sin (x , n ) :\n",
        "# Your code here\n",
        "  sin1 = sum(((-1)**k)*(x**(2*k+1)/gtx(2*k+1)) for k in range(0, n))\n",
        "  return sin1\n",
        "# End your code\n",
        "\n",
        "print(round(approx_sin(x =3.14, n =10), 4))"
      ]
    },
    {
      "cell_type": "code",
      "execution_count": 145,
      "metadata": {
        "colab": {
          "base_uri": "https://localhost:8080/"
        },
        "id": "R-enZSLt6wSl",
        "outputId": "7de5cef4-e696-4182-f943-09803c8c5313"
      },
      "outputs": [
        {
          "name": "stdout",
          "output_type": "stream",
          "text": [
            "11.53\n"
          ]
        }
      ],
      "source": [
        "def approx_sinh (x , n ) :\n",
        "# Your code here\n",
        "  sinh1 = sum(x**(2*k+1)/gtx(2*k+1) for k in range(0, n))\n",
        "  return sinh1\n",
        "# End your code\n",
        "\n",
        "print(round(approx_sinh(x = 3.14, n = 10), 2))"
      ]
    },
    {
      "cell_type": "code",
      "execution_count": 146,
      "metadata": {
        "colab": {
          "base_uri": "https://localhost:8080/"
        },
        "id": "Ach9xeEM8HOp",
        "outputId": "753b779a-cfd1-4240-f7e4-3c94bb468b6b"
      },
      "outputs": [
        {
          "name": "stdout",
          "output_type": "stream",
          "text": [
            "11.57\n"
          ]
        }
      ],
      "source": [
        "def approx_cosh (x, n ) :\n",
        "#Your code here\n",
        "  cosh1 = sum(x**(2*k)/gtx(2*k) for k in range(0, n))\n",
        "  return cosh1\n",
        "# End your code\n",
        "#assert round(approx_cosh(x =1, n =10), 2) == 1.54\n",
        "print(round(approx_cosh(x =3.14, n =10), 2))"
      ]
    },
    {
      "cell_type": "code",
      "execution_count": 152,
      "metadata": {
        "colab": {
          "base_uri": "https://localhost:8080/"
        },
        "id": "3fkXgZKY8vE5",
        "outputId": "3f07c5eb-ea4d-4d18-b373-4d316953f4ec"
      },
      "outputs": [
        {
          "name": "stdout",
          "output_type": "stream",
          "text": [
            "0.025031328369998107\n"
          ]
        }
      ],
      "source": [
        "def md_nre_single_sample3(y , y_hat, n):\n",
        "  y_root = y ** (1/ n )\n",
        "  y_hat_root = y_hat ** (1/ n)\n",
        "  difference = y_root - y_hat_root\n",
        "  loss = difference\n",
        "  return loss\n",
        "print(md_nre_single_sample3(y=100, y_hat =99.5 , n =2))\n"
      ]
    },
    {
      "cell_type": "markdown",
      "metadata": {
        "id": "P4OJcu_D6wC7"
      },
      "source": []
    }
  ],
  "metadata": {
    "colab": {
      "provenance": []
    },
    "kernelspec": {
      "display_name": "Python 3",
      "name": "python3"
    },
    "language_info": {
      "name": "python"
    }
  },
  "nbformat": 4,
  "nbformat_minor": 0
}
