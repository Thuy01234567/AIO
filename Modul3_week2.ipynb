{
  "nbformat": 4,
  "nbformat_minor": 0,
  "metadata": {
    "colab": {
      "provenance": [],
      "authorship_tag": "ABX9TyPE4VEtvcOBgJKG1NYeH0az",
      "include_colab_link": true
    },
    "kernelspec": {
      "name": "python3",
      "display_name": "Python 3"
    },
    "language_info": {
      "name": "python"
    }
  },
  "cells": [
    {
      "cell_type": "markdown",
      "metadata": {
        "id": "view-in-github",
        "colab_type": "text"
      },
      "source": [
        "<a href=\"https://colab.research.google.com/github/Thuy01234567/AIO/blob/main/Modul3_week2.ipynb\" target=\"_parent\"><img src=\"https://colab.research.google.com/assets/colab-badge.svg\" alt=\"Open In Colab\"/></a>"
      ]
    },
    {
      "cell_type": "code",
      "execution_count": 3,
      "metadata": {
        "colab": {
          "base_uri": "https://localhost:8080/"
        },
        "id": "DIMyaaO4y1O6",
        "outputId": "9cafb87f-71e2-4f27-810c-8a4dab5af03c"
      },
      "outputs": [
        {
          "output_type": "execute_result",
          "data": {
            "text/plain": [
              "1.0"
            ]
          },
          "metadata": {},
          "execution_count": 3
        }
      ],
      "source": [
        "from sklearn import datasets\n",
        "from sklearn.model_selection import train_test_split\n",
        "from sklearn.metrics import accuracy_score\n",
        "from sklearn.tree import DecisionTreeClassifier\n",
        "\n",
        "#Paragraph C :\n",
        "# Load the diabetes dataset\n",
        "iris_X , iris_y = datasets.load_iris(return_X_y=True)\n",
        "# Split train : test = 8:2\n",
        "X_train , X_test , y_train , y_test = train_test_split (\n",
        "iris_X , iris_y ,\n",
        "test_size =0.2 ,\n",
        "random_state =42)\n",
        "#\n",
        "\n",
        "#Paragraph B :\n",
        "# Define model\n",
        "dt_classifier = DecisionTreeClassifier ()\n",
        "\n",
        "#Paragraph A:\n",
        "# Train model\n",
        "dt_classifier.fit( X_train , y_train )\n",
        "\n",
        "#Paragraph D :\n",
        "# Preidct and evaluate\n",
        "y_pred = dt_classifier.predict (X_test )\n",
        "accuracy_score( y_test , y_pred )\n"
      ]
    },
    {
      "cell_type": "code",
      "source": [
        "from sklearn . datasets import fetch_openml\n",
        "from sklearn . model_selection import train_test_split\n",
        "from sklearn . metrics import mean_squared_error\n",
        "from sklearn . tree import DecisionTreeRegressor\n",
        "#Paragraph C :\n",
        "# Load dataset\n",
        "machine_cpu = fetch_openml( name ='machine_cpu')\n",
        "machine_data = machine_cpu . data\n",
        "machine_labels = machine_cpu . target\n",
        "# Split train : test = 8:2\n",
        "X_train , X_test , y_train , y_test = train_test_split (\n",
        "machine_data , machine_labels ,\n",
        "test_size =0.2 ,\n",
        "random_state =42)\n",
        "#Paragraph B :\n",
        "# Define model\n",
        "tree_reg = DecisionTreeRegressor ()\n",
        "#Paragraph A :\n",
        "# Train\n",
        "tree_reg.fit( X_train , y_train )\n",
        "\n",
        "#Paragraph D :\n",
        "# Preidct and evaluate\n",
        "y_pred = tree_reg . predict ( X_test )\n",
        "mean_squared_error ( y_test , y_pred )"
      ],
      "metadata": {
        "colab": {
          "base_uri": "https://localhost:8080/"
        },
        "id": "XDmWY6lU276H",
        "outputId": "ae1de1c1-61ae-4084-d46b-94d643ab9295"
      },
      "execution_count": 4,
      "outputs": [
        {
          "output_type": "stream",
          "name": "stderr",
          "text": [
            "/usr/local/lib/python3.10/dist-packages/sklearn/datasets/_openml.py:311: UserWarning: Multiple active versions of the dataset matching the name machine_cpu exist. Versions may be fundamentally different, returning version 1.\n",
            "  warn(\n",
            "/usr/local/lib/python3.10/dist-packages/sklearn/datasets/_openml.py:1022: FutureWarning: The default value of `parser` will change from `'liac-arff'` to `'auto'` in 1.4. You can set `parser='auto'` to silence this warning. Therefore, an `ImportError` will be raised from 1.4 if the dataset is dense and pandas is not installed. Note that the pandas parser may return different data types. See the Notes Section in fetch_openml's API doc for details.\n",
            "  warn(\n"
          ]
        },
        {
          "output_type": "execute_result",
          "data": {
            "text/plain": [
              "8850.651455026455"
            ]
          },
          "metadata": {},
          "execution_count": 4
        }
      ]
    }
  ]
}