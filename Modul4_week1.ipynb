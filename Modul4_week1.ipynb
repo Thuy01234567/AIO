{
  "nbformat": 4,
  "nbformat_minor": 0,
  "metadata": {
    "colab": {
      "provenance": [],
      "authorship_tag": "ABX9TyM1fuv84zpmMAxANl6CXrPV",
      "include_colab_link": true
    },
    "kernelspec": {
      "name": "python3",
      "display_name": "Python 3"
    },
    "language_info": {
      "name": "python"
    }
  },
  "cells": [
    {
      "cell_type": "markdown",
      "metadata": {
        "id": "view-in-github",
        "colab_type": "text"
      },
      "source": [
        "<a href=\"https://colab.research.google.com/github/Thuy01234567/AIO/blob/main/Modul4_week1.ipynb\" target=\"_parent\"><img src=\"https://colab.research.google.com/assets/colab-badge.svg\" alt=\"Open In Colab\"/></a>"
      ]
    },
    {
      "cell_type": "markdown",
      "source": [
        "Chuẩn bị thư viện và dataset"
      ],
      "metadata": {
        "id": "wAGmT0O2SyYy"
      }
    },
    {
      "cell_type": "code",
      "execution_count": 81,
      "metadata": {
        "id": "fUxXM-mogB-c"
      },
      "outputs": [],
      "source": [
        "# dataset\n",
        "import numpy as np\n",
        "import matplotlib.pyplot as plt\n",
        "import random\n",
        "\n",
        "def get_column (data, index):\n",
        "  # your code here ****************************\n",
        "  result = []\n",
        "  for row in data:\n",
        "    result.append(row[index])\n",
        "  return result\n",
        "\n",
        "def prepare_data(file_name_dataset):\n",
        "  data = np.genfromtxt(file_name_dataset, delimiter =',', skip_header =1).tolist()\n",
        "  N = len( data)\n",
        "\n",
        "  # get tv(index =0)\n",
        "  tv_data = get_column(data, 0)\n",
        "\n",
        "  # get radio(index =1)\n",
        "  radio_data = get_column(data, 1)\n",
        "\n",
        "  # get newspaper(index =2)\n",
        "  newspaper_data = get_column(data, 2)\n",
        "  # get sales(index =3)\n",
        "  sales_data = get_column(data, 3)\n",
        "\n",
        "  # building X input and y output for training\n",
        "  X =[tv_data, radio_data, newspaper_data]\n",
        "  y = sales_data\n",
        "  return X, y\n"
      ]
    },
    {
      "cell_type": "code",
      "source": [
        "X, y = prepare_data ('/content/advertising.csv')\n",
        "list =[sum(X [0][:5]), sum(X [1][:5]), sum(X [2][:5]), sum(y [:5])]\n",
        "print(list)\n"
      ],
      "metadata": {
        "colab": {
          "base_uri": "https://localhost:8080/"
        },
        "id": "FXCs0Ux2310a",
        "outputId": "81d35aea-27ca-426c-e7a2-9bd9f5f7fbda"
      },
      "execution_count": 82,
      "outputs": [
        {
          "output_type": "stream",
          "name": "stdout",
          "text": [
            "[624.1, 175.10000000000002, 300.5, 78.9]\n"
          ]
        }
      ]
    },
    {
      "cell_type": "code",
      "source": [
        "def initialize_params ():\n",
        "  w1 = random.gauss(mu =0.0, sigma =0.01)\n",
        "  w2 = random.gauss(mu =0.0, sigma =0.01)\n",
        "  w3 = random.gauss(mu =0.0, sigma =0.01)\n",
        "  b = 0\n",
        "  return w1, w2, w3, b"
      ],
      "metadata": {
        "id": "RcnBNWjripI8"
      },
      "execution_count": 80,
      "outputs": []
    },
    {
      "cell_type": "code",
      "source": [
        "def initialize_params ():\n",
        "  w1, w2, w3, b = (0.016992259082509283, 0.0070783670518262355,3 -0.002307860847821344, 0)\n",
        "  return w1, w2, w3, b"
      ],
      "metadata": {
        "id": "mEGzo8h0jJ3T"
      },
      "execution_count": 83,
      "outputs": []
    },
    {
      "cell_type": "code",
      "source": [
        "def implement_linear_regression(X_data, y_data, epoch_max = 50, lr = 1e-5):\n",
        "  losses = []\n",
        "  w1, w2, w3, b = initialize_params ()\n",
        "\n",
        "  if isinstance(y_data, float):\n",
        "    y_data = [y_data]\n",
        "\n",
        "  N = len( y_data)\n",
        "  for epoch in range(epoch_max):\n",
        "    for i in range(N):\n",
        "      # get a sample\n",
        "      x1 = X_data [0][i]\n",
        "      x2 = X_data [1][i]\n",
        "      x3 = X_data [2][i]\n",
        "\n",
        "      y = y_data [i]\n",
        "\n",
        "      # compute output\n",
        "      y_hat = predict(x1, x2, x3, w1, w2, w3, b)\n",
        "\n",
        "      # compute loss\n",
        "      loss = compute_loss_mse(y, y_hat)\n",
        "\n",
        "      # compute gradient w1, w2, w3, b\n",
        "      dl_dw1 = compute_gradient_wi(x1, y, y_hat)\n",
        "      dl_dw2 = compute_gradient_wi(x2, y, y_hat)\n",
        "      dl_dw3 = compute_gradient_wi(x3, y, y_hat)\n",
        "      dl_db = compute_gradient_b (y, y_hat)\n",
        "\n",
        "      # update parameters\n",
        "      w1 = update_weight_wi(w1, dl_dw1, lr)\n",
        "      w2 = update_weight_wi(w2, dl_dw2, lr)\n",
        "      w3 = update_weight_wi(w3, dl_dw3, lr)\n",
        "      b = update_weight_b (b, dl_db, lr)\n",
        "\n",
        "      # logging\n",
        "      losses.append(loss)\n",
        "  return(w1, w2, w3,b, losses)"
      ],
      "metadata": {
        "id": "6_Nji2089MKh"
      },
      "execution_count": 84,
      "outputs": []
    },
    {
      "cell_type": "code",
      "source": [
        "def predict(x1, x2, x3, w1, w2, w3, b):\n",
        "  # your code here ****************************\n",
        "  result = w1 * x1 + w2 * x2 + w3 * x3 + b\n",
        "  return result"
      ],
      "metadata": {
        "id": "4V11N6YVj8BN"
      },
      "execution_count": 85,
      "outputs": []
    },
    {
      "cell_type": "code",
      "source": [
        "y = predict(x1 =1, x2 =1, x3 =1, w1 =0, w2 =0.5, w3 =0, b =0.5)\n",
        "print (y)"
      ],
      "metadata": {
        "colab": {
          "base_uri": "https://localhost:8080/"
        },
        "id": "pTj4Anmd6ijK",
        "outputId": "00a1906b-54d8-404a-9414-0965a3b7c16d"
      },
      "execution_count": 86,
      "outputs": [
        {
          "output_type": "stream",
          "name": "stdout",
          "text": [
            "1.0\n"
          ]
        }
      ]
    },
    {
      "cell_type": "code",
      "source": [
        "def compute_loss_mse(y_hat, y):\n",
        "  # your code here ****************************\n",
        "  #sử dụng Mean Squared Error\n",
        "  loss = (y - y_hat) ** 2\n",
        "  return loss"
      ],
      "metadata": {
        "id": "xIX4U16x33HS"
      },
      "execution_count": 87,
      "outputs": []
    },
    {
      "cell_type": "code",
      "source": [
        "l = compute_loss_mse(y_hat =1, y =0.5)\n",
        "print(l)"
      ],
      "metadata": {
        "colab": {
          "base_uri": "https://localhost:8080/"
        },
        "id": "UXdiBwzf36FQ",
        "outputId": "375cefc5-530e-43d2-b7bb-59ddc430aec3"
      },
      "execution_count": 88,
      "outputs": [
        {
          "output_type": "stream",
          "name": "stdout",
          "text": [
            "0.25\n"
          ]
        }
      ]
    },
    {
      "cell_type": "code",
      "source": [
        "def compute_loss_mae(y_hat, y):\n",
        "  # your code here ****************************\n",
        "  #sử dụng Mean Absolute Error\n",
        "  loss = abs(y - y_hat)\n",
        "  return loss"
      ],
      "metadata": {
        "id": "k3JH1OItksKr"
      },
      "execution_count": 89,
      "outputs": []
    },
    {
      "cell_type": "code",
      "source": [
        "l = compute_loss_mae (y_hat =1, y =0.5)\n",
        "print(l)"
      ],
      "metadata": {
        "colab": {
          "base_uri": "https://localhost:8080/"
        },
        "id": "MKlZvFB24R7I",
        "outputId": "e42c8a4e-d5e2-435e-c2c5-d51b28feebd8"
      },
      "execution_count": 90,
      "outputs": [
        {
          "output_type": "stream",
          "name": "stdout",
          "text": [
            "0.5\n"
          ]
        }
      ]
    },
    {
      "cell_type": "code",
      "source": [
        "# compute gradient\n",
        "def compute_gradient_wi (xi, y, y_hat):\n",
        "  # your code here ****************************\n",
        "  # tính đạo hàm của hàm loss L = (ˆy − y)**2 theo wi\n",
        "  dl_dwi = -2 * xi * (y - y_hat)\n",
        "  return dl_dwi\n",
        "\n",
        "\n",
        "def compute_gradient_b (y, y_hat):\n",
        "  # your code here ****************************\n",
        "  # tính đạo hàm của hàm loss L= (ˆy − y)**2 theo b\n",
        "  dl_db = -2 * (y - y_hat)\n",
        "  return dl_db\n"
      ],
      "metadata": {
        "id": "c1U9KD2dlG5s"
      },
      "execution_count": 91,
      "outputs": []
    },
    {
      "cell_type": "code",
      "source": [
        "g_wi = compute_gradient_wi(xi =1.0, y =1.0, y_hat =0.5)\n",
        "print(g_wi)"
      ],
      "metadata": {
        "colab": {
          "base_uri": "https://localhost:8080/"
        },
        "id": "AG9dRP50muf1",
        "outputId": "59923d34-a448-4bae-b5d2-039690d37d63"
      },
      "execution_count": 92,
      "outputs": [
        {
          "output_type": "stream",
          "name": "stdout",
          "text": [
            "-1.0\n"
          ]
        }
      ]
    },
    {
      "cell_type": "code",
      "source": [
        "g_b = compute_gradient_b(y =2.0, y_hat =0.5)\n",
        "print(g_b)"
      ],
      "metadata": {
        "colab": {
          "base_uri": "https://localhost:8080/"
        },
        "id": "HGDcODTdm1e0",
        "outputId": "eadc45c0-d573-41e5-d6b0-1928ec6ea9d1"
      },
      "execution_count": 93,
      "outputs": [
        {
          "output_type": "stream",
          "name": "stdout",
          "text": [
            "-3.0\n"
          ]
        }
      ]
    },
    {
      "cell_type": "code",
      "source": [
        "# update weights\n",
        "def update_weight_wi(wi, dl_dwi, lr):\n",
        "\n",
        "  # your code here ****************************\n",
        "  wi = wi - lr * dl_dwi\n",
        "  return wi\n",
        "\n",
        "def update_weight_b (b, dl_db, lr):\n",
        "  # your code here ****************************\n",
        "  b = b - lr * dl_db\n",
        "  return b"
      ],
      "metadata": {
        "id": "yLSoR8bnmvCM"
      },
      "execution_count": 94,
      "outputs": []
    },
    {
      "cell_type": "code",
      "source": [
        "after_wi = update_weight_wi(wi =1.0, dl_dwi = -0.5, lr = 1e-5)\n",
        "print (after_wi)"
      ],
      "metadata": {
        "colab": {
          "base_uri": "https://localhost:8080/"
        },
        "id": "pFfVgA2vnk3v",
        "outputId": "06c7d14d-b074-4b02-a570-81a801e423ce"
      },
      "execution_count": 95,
      "outputs": [
        {
          "output_type": "stream",
          "name": "stdout",
          "text": [
            "1.000005\n"
          ]
        }
      ]
    },
    {
      "cell_type": "code",
      "source": [
        "after_b = update_weight_b(b =0.5, dl_db = -1.0, lr = 1e-5)\n",
        "print(after_b)"
      ],
      "metadata": {
        "colab": {
          "base_uri": "https://localhost:8080/"
        },
        "id": "u3bhzS6EoCL0",
        "outputId": "9b5d7e8c-535b-4335-d53d-40a60cbd105d"
      },
      "execution_count": 96,
      "outputs": [
        {
          "output_type": "stream",
          "name": "stdout",
          "text": [
            "0.50001\n"
          ]
        }
      ]
    },
    {
      "cell_type": "code",
      "source": [
        "X, y = prepare_data('/content/advertising.csv')\n",
        "(w1, w2, w3, b, losses) = implement_linear_regression (X, y)\n",
        "plt.plot(losses [:100])\n",
        "plt.xlabel(\"# iteration\")\n",
        "plt.ylabel(\"Loss\")\n",
        "plt.show()"
      ],
      "metadata": {
        "colab": {
          "base_uri": "https://localhost:8080/",
          "height": 449
        },
        "id": "zJjWou2foSk8",
        "outputId": "21fccd59-fc3b-443a-8700-014b2925219d"
      },
      "execution_count": 97,
      "outputs": [
        {
          "output_type": "display_data",
          "data": {
            "text/plain": [
              "<Figure size 640x480 with 1 Axes>"
            ],
            "image/png": "[encoded data removed]"
          },
          "metadata": {}
        }
      ]
    },
    {
      "cell_type": "markdown",
      "source": [],
      "metadata": {
        "id": "_Nh4VttSvdMR"
      }
    },
    {
      "cell_type": "code",
      "source": [
        "X, y = prepare_data ('/content/advertising.csv')\n",
        "(w1, w2, w3,b, losses) = implement_linear_regression (X, y,1000)\n",
        "print( w1, w2, w3)"
      ],
      "metadata": {
        "colab": {
          "base_uri": "https://localhost:8080/"
        },
        "id": "stekably96G6",
        "outputId": "07e7443a-8e17-46cf-a6ca-dabbf367db55"
      },
      "execution_count": 99,
      "outputs": [
        {
          "output_type": "stream",
          "name": "stdout",
          "text": [
            "0.06576198951276759 0.13778788567236466 0.007941197067705243\n"
          ]
        }
      ]
    },
    {
      "cell_type": "code",
      "source": [
        "tv = 19.2\n",
        "radio = 35.9\n",
        "newspaper = 51.3\n",
        "X, y = prepare_data ('/content/advertising.csv')\n",
        "(w1, w2, w3,b, losses) = implement_linear_regression (X, y, epoch_max =50, lr =1e-5)\n",
        "sales = predict(tv, radio, newspaper, w1, w2, w3, b)\n",
        "print (f'predicted sales is {sales}')"
      ],
      "metadata": {
        "colab": {
          "base_uri": "https://localhost:8080/"
        },
        "id": "mk97FWg4vXO1",
        "outputId": "4caf14ae-d3c8-4bb1-fda2-af31d9e33c54"
      },
      "execution_count": 100,
      "outputs": [
        {
          "output_type": "stream",
          "name": "stdout",
          "text": [
            "predicted sales is 8.171499274734634\n"
          ]
        }
      ]
    },
    {
      "cell_type": "code",
      "source": [
        "def implement_linear_regression_nsamples(X_data, y_data, epoch_max=1000, lr=1e-5):\n",
        "    losses = []\n",
        "    w1, w2, w3, b = initialize_params()\n",
        "    N = len(y_data)\n",
        "\n",
        "    for epoch in range(epoch_max):\n",
        "        loss_total = 0.0\n",
        "        dw1_total = 0.0\n",
        "        dw2_total = 0.0\n",
        "        dw3_total = 0.0\n",
        "        db_total = 0.0\n",
        "\n",
        "        for i in range(N):\n",
        "            # Assuming X_data is a list of lists where each inner list\n",
        "            # represents a sample and contains values for TV, Radio, Newspaper\n",
        "            x1 = X_data[i][0]  # TV data for the i-th sample\n",
        "            x2 = X_data[i][1]  # Radio data for the i-th sample\n",
        "            x3 = X_data[i][2]  # Newspaper data for the i-th sample\n",
        "            y = y_data[i]\n",
        "\n",
        "            y_hat = predict(x1, x2, x3, w1, w2, w3, b)\n",
        "\n",
        "            loss = compute_loss_mse(y, y_hat)\n",
        "            loss_total += loss\n",
        "\n",
        "            dl_dw1 = compute_gradient_wi(x1, y, y_hat)\n",
        "            dl_dw2 = compute_gradient_wi(x2, y, y_hat)\n",
        "            dl_dw3 = compute_gradient_wi(x3, y, y_hat)\n",
        "            dl_db = compute_gradient_b(y, y_hat)\n",
        "\n",
        "            dw1_total += dl_dw1\n",
        "            dw2_total += dl_dw2\n",
        "            dw3_total += dl_dw3\n",
        "            db_total += dl_db\n",
        "\n",
        "        # Update parameters (unchanged)\n",
        "        w1 = update_weight_wi(w1, dw1_total, lr)\n",
        "        w2 = update_weight_wi(w2, dw2_total, lr)\n",
        "        w3 = update_weight_wi(w3, dw3_total, lr)\n",
        "        b = update_weight_b(b, db_total, lr)\n",
        "\n",
        "        # logging\n",
        "        losses.append(loss_total/N)\n",
        "\n",
        "    return (w1, w2, w3, b, losses)"
      ],
      "metadata": {
        "id": "_dtvi0OH2u49"
      },
      "execution_count": 111,
      "outputs": []
    },
    {
      "cell_type": "code",
      "source": [
        "X, y = prepare_data ('/content/advertising.csv')\n",
        "(w1, w2, w3, b, losses) = implement_linear_regression_nsamples (X, y, epoch_max =1000, lr =1e-5)\n",
        "print(losses)\n",
        "plt.plot(losses)\n",
        "plt.xlabel(\"# epoch\")\n",
        "plt.ylabel(\"MSE Loss\")\n",
        "plt.show()"
      ],
      "metadata": {
        "colab": {
          "base_uri": "https://localhost:8080/",
          "height": 339
        },
        "id": "P1wEF8exA6Ib",
        "outputId": "3c7832ab-401d-4360-e711-865acedcb4f5"
      },
      "execution_count": 114,
      "outputs": [
        {
          "output_type": "error",
          "ename": "OverflowError",
          "evalue": "(34, 'Numerical result out of range')",
          "traceback": [
            "\u001b[0;31m---------------------------------------------------------------------------\u001b[0m",
            "\u001b[0;31mOverflowError\u001b[0m                             Traceback (most recent call last)",
            "\u001b[0;32m<ipython-input-114-424b6216e874>\u001b[0m in \u001b[0;36m<cell line: 2>\u001b[0;34m()\u001b[0m\n\u001b[1;32m      1\u001b[0m \u001b[0mX\u001b[0m\u001b[0;34m,\u001b[0m \u001b[0my\u001b[0m \u001b[0;34m=\u001b[0m \u001b[0mprepare_data\u001b[0m \u001b[0;34m(\u001b[0m\u001b[0;34m'/content/advertising.csv'\u001b[0m\u001b[0;34m)\u001b[0m\u001b[0;34m\u001b[0m\u001b[0;34m\u001b[0m\u001b[0m\n\u001b[0;32m----> 2\u001b[0;31m \u001b[0;34m(\u001b[0m\u001b[0mw1\u001b[0m\u001b[0;34m,\u001b[0m \u001b[0mw2\u001b[0m\u001b[0;34m,\u001b[0m \u001b[0mw3\u001b[0m\u001b[0;34m,\u001b[0m \u001b[0mb\u001b[0m\u001b[0;34m,\u001b[0m \u001b[0mlosses\u001b[0m\u001b[0;34m)\u001b[0m \u001b[0;34m=\u001b[0m \u001b[0mimplement_linear_regression_nsamples\u001b[0m \u001b[0;34m(\u001b[0m\u001b[0mX\u001b[0m\u001b[0;34m,\u001b[0m \u001b[0my\u001b[0m\u001b[0;34m,\u001b[0m \u001b[0mepoch_max\u001b[0m \u001b[0;34m=\u001b[0m\u001b[0;36m1000\u001b[0m\u001b[0;34m,\u001b[0m \u001b[0mlr\u001b[0m \u001b[0;34m=\u001b[0m\u001b[0;36m1e-5\u001b[0m\u001b[0;34m)\u001b[0m\u001b[0;34m\u001b[0m\u001b[0;34m\u001b[0m\u001b[0m\n\u001b[0m\u001b[1;32m      3\u001b[0m \u001b[0mprint\u001b[0m\u001b[0;34m(\u001b[0m\u001b[0mlosses\u001b[0m\u001b[0;34m)\u001b[0m\u001b[0;34m\u001b[0m\u001b[0;34m\u001b[0m\u001b[0m\n\u001b[1;32m      4\u001b[0m \u001b[0mplt\u001b[0m\u001b[0;34m.\u001b[0m\u001b[0mplot\u001b[0m\u001b[0;34m(\u001b[0m\u001b[0mlosses\u001b[0m\u001b[0;34m)\u001b[0m\u001b[0;34m\u001b[0m\u001b[0;34m\u001b[0m\u001b[0m\n\u001b[1;32m      5\u001b[0m \u001b[0mplt\u001b[0m\u001b[0;34m.\u001b[0m\u001b[0mxlabel\u001b[0m\u001b[0;34m(\u001b[0m\u001b[0;34m\"# epoch\"\u001b[0m\u001b[0;34m)\u001b[0m\u001b[0;34m\u001b[0m\u001b[0;34m\u001b[0m\u001b[0m\n",
            "\u001b[0;32m<ipython-input-111-0dc12979f8d4>\u001b[0m in \u001b[0;36mimplement_linear_regression_nsamples\u001b[0;34m(X_data, y_data, epoch_max, lr)\u001b[0m\n\u001b[1;32m     21\u001b[0m             \u001b[0my_hat\u001b[0m \u001b[0;34m=\u001b[0m \u001b[0mpredict\u001b[0m\u001b[0;34m(\u001b[0m\u001b[0mx1\u001b[0m\u001b[0;34m,\u001b[0m \u001b[0mx2\u001b[0m\u001b[0;34m,\u001b[0m \u001b[0mx3\u001b[0m\u001b[0;34m,\u001b[0m \u001b[0mw1\u001b[0m\u001b[0;34m,\u001b[0m \u001b[0mw2\u001b[0m\u001b[0;34m,\u001b[0m \u001b[0mw3\u001b[0m\u001b[0;34m,\u001b[0m \u001b[0mb\u001b[0m\u001b[0;34m)\u001b[0m\u001b[0;34m\u001b[0m\u001b[0;34m\u001b[0m\u001b[0m\n\u001b[1;32m     22\u001b[0m \u001b[0;34m\u001b[0m\u001b[0m\n\u001b[0;32m---> 23\u001b[0;31m             \u001b[0mloss\u001b[0m \u001b[0;34m=\u001b[0m \u001b[0mcompute_loss_mse\u001b[0m\u001b[0;34m(\u001b[0m\u001b[0my\u001b[0m\u001b[0;34m,\u001b[0m \u001b[0my_hat\u001b[0m\u001b[0;34m)\u001b[0m\u001b[0;34m\u001b[0m\u001b[0;34m\u001b[0m\u001b[0m\n\u001b[0m\u001b[1;32m     24\u001b[0m             \u001b[0mloss_total\u001b[0m \u001b[0;34m+=\u001b[0m \u001b[0mloss\u001b[0m\u001b[0;34m\u001b[0m\u001b[0;34m\u001b[0m\u001b[0m\n\u001b[1;32m     25\u001b[0m \u001b[0;34m\u001b[0m\u001b[0m\n",
            "\u001b[0;32m<ipython-input-87-af639953f6c2>\u001b[0m in \u001b[0;36mcompute_loss_mse\u001b[0;34m(y_hat, y)\u001b[0m\n\u001b[1;32m      2\u001b[0m   \u001b[0;31m# your code here ****************************\u001b[0m\u001b[0;34m\u001b[0m\u001b[0;34m\u001b[0m\u001b[0m\n\u001b[1;32m      3\u001b[0m   \u001b[0;31m#sử dụng Mean Squared Error\u001b[0m\u001b[0;34m\u001b[0m\u001b[0;34m\u001b[0m\u001b[0m\n\u001b[0;32m----> 4\u001b[0;31m   \u001b[0mloss\u001b[0m \u001b[0;34m=\u001b[0m \u001b[0;34m(\u001b[0m\u001b[0my\u001b[0m \u001b[0;34m-\u001b[0m \u001b[0my_hat\u001b[0m\u001b[0;34m)\u001b[0m \u001b[0;34m**\u001b[0m \u001b[0;36m2\u001b[0m\u001b[0;34m\u001b[0m\u001b[0;34m\u001b[0m\u001b[0m\n\u001b[0m\u001b[1;32m      5\u001b[0m   \u001b[0;32mreturn\u001b[0m \u001b[0mloss\u001b[0m\u001b[0;34m\u001b[0m\u001b[0;34m\u001b[0m\u001b[0m\n",
            "\u001b[0;31mOverflowError\u001b[0m: (34, 'Numerical result out of range')"
          ]
        }
      ]
    },
    {
      "cell_type": "code",
      "source": [
        "X, y = prepare_data('/content/advertising.csv')\n",
        "# using MSE loss\n",
        "(w1, w2, w3,b, losses) = implement_linear_regression_nsamples (X, y, epoch_max =1000, lr =1e-5)\n",
        "\n",
        "print (w1, w2, w3)"
      ],
      "metadata": {
        "colab": {
          "base_uri": "https://localhost:8080/",
          "height": 339
        },
        "id": "RZLQMamcFYbC",
        "outputId": "ce38181d-17d5-4a31-b71f-3f8da29ec89e"
      },
      "execution_count": 115,
      "outputs": [
        {
          "output_type": "error",
          "ename": "OverflowError",
          "evalue": "(34, 'Numerical result out of range')",
          "traceback": [
            "\u001b[0;31m---------------------------------------------------------------------------\u001b[0m",
            "\u001b[0;31mOverflowError\u001b[0m                             Traceback (most recent call last)",
            "\u001b[0;32m<ipython-input-115-17e1722af748>\u001b[0m in \u001b[0;36m<cell line: 3>\u001b[0;34m()\u001b[0m\n\u001b[1;32m      1\u001b[0m \u001b[0mX\u001b[0m\u001b[0;34m,\u001b[0m \u001b[0my\u001b[0m \u001b[0;34m=\u001b[0m \u001b[0mprepare_data\u001b[0m\u001b[0;34m(\u001b[0m\u001b[0;34m'/content/advertising.csv'\u001b[0m\u001b[0;34m)\u001b[0m\u001b[0;34m\u001b[0m\u001b[0;34m\u001b[0m\u001b[0m\n\u001b[1;32m      2\u001b[0m \u001b[0;31m# using MSE loss\u001b[0m\u001b[0;34m\u001b[0m\u001b[0;34m\u001b[0m\u001b[0m\n\u001b[0;32m----> 3\u001b[0;31m \u001b[0;34m(\u001b[0m\u001b[0mw1\u001b[0m\u001b[0;34m,\u001b[0m \u001b[0mw2\u001b[0m\u001b[0;34m,\u001b[0m \u001b[0mw3\u001b[0m\u001b[0;34m,\u001b[0m\u001b[0mb\u001b[0m\u001b[0;34m,\u001b[0m \u001b[0mlosses\u001b[0m\u001b[0;34m)\u001b[0m \u001b[0;34m=\u001b[0m \u001b[0mimplement_linear_regression_nsamples\u001b[0m \u001b[0;34m(\u001b[0m\u001b[0mX\u001b[0m\u001b[0;34m,\u001b[0m \u001b[0my\u001b[0m\u001b[0;34m,\u001b[0m \u001b[0mepoch_max\u001b[0m \u001b[0;34m=\u001b[0m\u001b[0;36m1000\u001b[0m\u001b[0;34m,\u001b[0m \u001b[0mlr\u001b[0m \u001b[0;34m=\u001b[0m\u001b[0;36m1e-5\u001b[0m\u001b[0;34m)\u001b[0m\u001b[0;34m\u001b[0m\u001b[0;34m\u001b[0m\u001b[0m\n\u001b[0m\u001b[1;32m      4\u001b[0m \u001b[0;34m\u001b[0m\u001b[0m\n\u001b[1;32m      5\u001b[0m \u001b[0mprint\u001b[0m \u001b[0;34m(\u001b[0m\u001b[0mw1\u001b[0m\u001b[0;34m,\u001b[0m \u001b[0mw2\u001b[0m\u001b[0;34m,\u001b[0m \u001b[0mw3\u001b[0m\u001b[0;34m)\u001b[0m\u001b[0;34m\u001b[0m\u001b[0;34m\u001b[0m\u001b[0m\n",
            "\u001b[0;32m<ipython-input-111-0dc12979f8d4>\u001b[0m in \u001b[0;36mimplement_linear_regression_nsamples\u001b[0;34m(X_data, y_data, epoch_max, lr)\u001b[0m\n\u001b[1;32m     21\u001b[0m             \u001b[0my_hat\u001b[0m \u001b[0;34m=\u001b[0m \u001b[0mpredict\u001b[0m\u001b[0;34m(\u001b[0m\u001b[0mx1\u001b[0m\u001b[0;34m,\u001b[0m \u001b[0mx2\u001b[0m\u001b[0;34m,\u001b[0m \u001b[0mx3\u001b[0m\u001b[0;34m,\u001b[0m \u001b[0mw1\u001b[0m\u001b[0;34m,\u001b[0m \u001b[0mw2\u001b[0m\u001b[0;34m,\u001b[0m \u001b[0mw3\u001b[0m\u001b[0;34m,\u001b[0m \u001b[0mb\u001b[0m\u001b[0;34m)\u001b[0m\u001b[0;34m\u001b[0m\u001b[0;34m\u001b[0m\u001b[0m\n\u001b[1;32m     22\u001b[0m \u001b[0;34m\u001b[0m\u001b[0m\n\u001b[0;32m---> 23\u001b[0;31m             \u001b[0mloss\u001b[0m \u001b[0;34m=\u001b[0m \u001b[0mcompute_loss_mse\u001b[0m\u001b[0;34m(\u001b[0m\u001b[0my\u001b[0m\u001b[0;34m,\u001b[0m \u001b[0my_hat\u001b[0m\u001b[0;34m)\u001b[0m\u001b[0;34m\u001b[0m\u001b[0;34m\u001b[0m\u001b[0m\n\u001b[0m\u001b[1;32m     24\u001b[0m             \u001b[0mloss_total\u001b[0m \u001b[0;34m+=\u001b[0m \u001b[0mloss\u001b[0m\u001b[0;34m\u001b[0m\u001b[0;34m\u001b[0m\u001b[0m\n\u001b[1;32m     25\u001b[0m \u001b[0;34m\u001b[0m\u001b[0m\n",
            "\u001b[0;32m<ipython-input-87-af639953f6c2>\u001b[0m in \u001b[0;36mcompute_loss_mse\u001b[0;34m(y_hat, y)\u001b[0m\n\u001b[1;32m      2\u001b[0m   \u001b[0;31m# your code here ****************************\u001b[0m\u001b[0;34m\u001b[0m\u001b[0;34m\u001b[0m\u001b[0m\n\u001b[1;32m      3\u001b[0m   \u001b[0;31m#sử dụng Mean Squared Error\u001b[0m\u001b[0;34m\u001b[0m\u001b[0;34m\u001b[0m\u001b[0m\n\u001b[0;32m----> 4\u001b[0;31m   \u001b[0mloss\u001b[0m \u001b[0;34m=\u001b[0m \u001b[0;34m(\u001b[0m\u001b[0my\u001b[0m \u001b[0;34m-\u001b[0m \u001b[0my_hat\u001b[0m\u001b[0;34m)\u001b[0m \u001b[0;34m**\u001b[0m \u001b[0;36m2\u001b[0m\u001b[0;34m\u001b[0m\u001b[0;34m\u001b[0m\u001b[0m\n\u001b[0m\u001b[1;32m      5\u001b[0m   \u001b[0;32mreturn\u001b[0m \u001b[0mloss\u001b[0m\u001b[0;34m\u001b[0m\u001b[0;34m\u001b[0m\u001b[0m\n",
            "\u001b[0;31mOverflowError\u001b[0m: (34, 'Numerical result out of range')"
          ]
        }
      ]
    },
    {
      "cell_type": "code",
      "source": [
        "def prepare_data(file_name_dataset):\n",
        "  data = np.genfromtxt(file_name_dataset, delimiter =',', skip_header =1).tolist ()\n",
        "\n",
        "  # get tv(index =0)\n",
        "  tv_data = get_column(data, 0)\n",
        "\n",
        "  # get radio(index =1)\n",
        "  radio_data = get_column(data, 1)\n",
        "\n",
        "  # get newspaper(index =2)\n",
        "  newspaper_data = get_column(data, 2)\n",
        "\n",
        "  # get sales(index =3)\n",
        "  sales_data = get_column(data, 3)\n",
        "\n",
        "  # building X input and y output for training\n",
        "  # Create list of features for input\n",
        "  X = [[1, x1, x2, x3] for x1, x2, x3 in zip( tv_data, radio_data, newspaper_data)]\n",
        "  y = sales_data\n",
        "  return X, y"
      ],
      "metadata": {
        "id": "0AjI1Bt0DSi4"
      },
      "execution_count": 104,
      "outputs": []
    },
    {
      "cell_type": "code",
      "source": [
        "def initialize_params ():\n",
        "  bias = 0\n",
        "  w1 = random.gauss(mu =0.0, sigma =0.01)\n",
        "  w2 = random.gauss(mu =0.0, sigma =0.01)\n",
        "  w3 = random.gauss(mu =0.0, sigma =0.01)\n",
        "\n",
        "  # comment this line for real application\n",
        "  return [0, -0.01268850433497871, 0.004752496982185252, 0.0073796171538643845]\n",
        "  # return [bias, w1, w2, w3]"
      ],
      "metadata": {
        "id": "kMmuo2osDwP6"
      },
      "execution_count": 44,
      "outputs": []
    },
    {
      "cell_type": "code",
      "source": [
        "# Predict output by using y = x0*b + x1*w1 + x2*w2 + x3*w3\n",
        "def predict(X_features, weights):\n",
        "  # your code here ......\n",
        "  result = 0\n",
        "  for i in range(len(X_features)):\n",
        "    result += X_features[i] * weights[i]\n",
        "  return result\n",
        "\n",
        "def compute_loss(y_hat, y):\n",
        "  return(y_hat - y) **2\n",
        "\n",
        "# compute gradient\n",
        "def compute_gradient_w(X_features, y, y_hat):\n",
        "  # your code here ......\n",
        "  X_features = np.array(X_features)\n",
        "  result = -2 * X_features * (y - y_hat)\n",
        "  return result\n",
        "\n",
        "def compute_gradient_b(y, y_hat):\n",
        "  # your code here ......\n",
        "  result = -2 * (y - y_hat)\n",
        "  return result\n",
        "\n",
        "# update weights\n",
        "def update_weight(weights, dl_dweights, lr):\n",
        "  # your code here ......\n",
        "  for i in range(len(weights)):\n",
        "    weights[i] = weights[i] - lr * dl_dweights[i]\n",
        "\n",
        "  return weights"
      ],
      "metadata": {
        "id": "JJRlCwoND7iR"
      },
      "execution_count": 48,
      "outputs": []
    },
    {
      "cell_type": "code",
      "source": [
        "def implement_linear_regression(X_feature , y_ouput , epoch_max =50 , lr =1e-5) :\n",
        "\n",
        "  losses = []\n",
        "  weights = initialize_params ()\n",
        "  N = len( y_ouput)\n",
        "  for epoch in range(epoch_max):\n",
        "\n",
        "    for i in range(N):\n",
        "      # get a sample - row i\n",
        "      features_i = X_feature[i]\n",
        "      y = y_ouput[i]\n",
        "\n",
        "      # compute output\n",
        "      y_hat = predict(features_i , weights)\n",
        "\n",
        "      # compute loss\n",
        "      loss = compute_loss (y , y_hat)\n",
        "\n",
        "      # compute gradient w1 , w2 , w3 , b\n",
        "      dl_dweights = compute_gradient_w(features_i , y , y_hat)\n",
        "\n",
        "      # update parameters\n",
        "      weights = update_weight(weights , dl_dweights , lr)\n",
        "\n",
        "      # logging\n",
        "      losses.append(loss)\n",
        "  return weights , losses\n",
        "\n",
        "X , y = prepare_data ('/content/advertising.csv')\n",
        "W , L = implement_linear_regression (X , y)\n",
        "plt.plot(L [0:100])\n",
        "plt.xlabel (\"# iteration \")\n",
        "plt.ylabel (\"Loss\")\n",
        "plt.show ()"
      ],
      "metadata": {
        "colab": {
          "base_uri": "https://localhost:8080/",
          "height": 449
        },
        "id": "CX2y-4bZGeCB",
        "outputId": "2769346c-efec-4db0-d852-182b4b17d97c"
      },
      "execution_count": 50,
      "outputs": [
        {
          "output_type": "display_data",
          "data": {
            "text/plain": [
              "<Figure size 640x480 with 1 Axes>"
            ],
            "image/png": "[encoded data removed]"
          },
          "metadata": {}
        }
      ]
    },
    {
      "cell_type": "code",
      "source": [
        "X , y = prepare_data ( '/content/advertising.csv')\n",
        "W , L = implement_linear_regression (X , y , epoch_max =50 , lr =1e-5)\n",
        "# Print loss value at iteration 9999\n",
        "print (L[9999])"
      ],
      "metadata": {
        "colab": {
          "base_uri": "https://localhost:8080/"
        },
        "id": "B1vuif_lJq3H",
        "outputId": "b7d50f7a-3a89-48f8-bd9f-1eac95232d61"
      },
      "execution_count": 53,
      "outputs": [
        {
          "output_type": "stream",
          "name": "stdout",
          "text": [
            "31.339223408109948\n"
          ]
        }
      ]
    }
  ]
}